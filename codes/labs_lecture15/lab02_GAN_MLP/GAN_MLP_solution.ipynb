{
 "cells": [
  {
   "cell_type": "markdown",
   "metadata": {
    "id": "D0jesoktYdKv"
   },
   "source": [
    "# Lab 02 : Vanilla GAN with MLP - solution\n",
    "\n",
    "The goal is to implement a GAN architecture with MLPs to generate new MNIST images.</br>"
   ]
  },
  {
   "cell_type": "code",
   "execution_count": 1,
   "metadata": {
    "colab": {
     "base_uri": "https://localhost:8080/"
    },
    "executionInfo": {
     "elapsed": 2199,
     "status": "ok",
     "timestamp": 1649158563687,
     "user": {
      "displayName": "Xavier Bresson",
      "userId": "14103767471123103792"
     },
     "user_tz": -480
    },
    "id": "yQkNjE9tYdKy",
    "outputId": "db81fbc8-85dd-4098-b7a1-ae7965b1db02"
   },
   "outputs": [
    {
     "name": "stdout",
     "output_type": "stream",
     "text": [
      "Drive already mounted at /content/gdrive; to attempt to forcibly remount, call drive.mount(\"/content/gdrive\", force_remount=True).\n",
      "/content/gdrive/My Drive/GAN/new_codes/labs_lecture15/lab02_GAN_MLP\n",
      "/content/gdrive/My Drive/GAN/new_codes/labs_lecture15/lab02_GAN_MLP\n"
     ]
    }
   ],
   "source": [
    "# For Google Colaboratory\n",
    "import sys, os\n",
    "if 'google.colab' in sys.modules:\n",
    "    # mount google drive\n",
    "    from google.colab import drive\n",
    "    drive.mount('/content/gdrive')\n",
    "    path_to_file = '/content/gdrive/My Drive/CS4243_codes/codes/labs_lecture15/lab02_GAN_MLP'\n",
    "    print(path_to_file)\n",
    "    # move to Google Drive directory\n",
    "    os.chdir(path_to_file)\n",
    "    !pwd"
   ]
  },
  {
   "cell_type": "code",
   "execution_count": 2,
   "metadata": {
    "executionInfo": {
     "elapsed": 1104,
     "status": "ok",
     "timestamp": 1649158564789,
     "user": {
      "displayName": "Xavier Bresson",
      "userId": "14103767471123103792"
     },
     "user_tz": -480
    },
    "id": "ERQgahj9YdKz"
   },
   "outputs": [],
   "source": [
    "import torch\n",
    "import torch.nn as nn\n",
    "import torch.optim as optim\n",
    "import utils\n",
    "import time"
   ]
  },
  {
   "cell_type": "markdown",
   "metadata": {
    "id": "pTE_79QTVtx1"
   },
   "source": [
    "### GPU is required to train GAN"
   ]
  },
  {
   "cell_type": "code",
   "execution_count": 3,
   "metadata": {
    "colab": {
     "base_uri": "https://localhost:8080/"
    },
    "executionInfo": {
     "elapsed": 3,
     "status": "ok",
     "timestamp": 1649158564789,
     "user": {
      "displayName": "Xavier Bresson",
      "userId": "14103767471123103792"
     },
     "user_tz": -480
    },
    "id": "ZbjnZcmbYdKz",
    "outputId": "1021fbde-11d1-4b60-fb2a-a91bfa2811f6"
   },
   "outputs": [
    {
     "name": "stdout",
     "output_type": "stream",
     "text": [
      "cuda\n"
     ]
    }
   ],
   "source": [
    "device= torch.device(\"cuda\")\n",
    "#device= torch.device(\"cpu\")\n",
    "print(device)"
   ]
  },
  {
   "cell_type": "code",
   "execution_count": 4,
   "metadata": {
    "executionInfo": {
     "elapsed": 3,
     "status": "ok",
     "timestamp": 1649158564790,
     "user": {
      "displayName": "Xavier Bresson",
      "userId": "14103767471123103792"
     },
     "user_tz": -480
    },
    "id": "x11IwMXRYdK0"
   },
   "outputs": [],
   "source": [
    "# Libraries\n",
    "import matplotlib.pyplot as plt\n",
    "import logging\n",
    "logging.getLogger().setLevel(logging.CRITICAL) # remove warnings"
   ]
  },
  {
   "cell_type": "markdown",
   "metadata": {
    "id": "2ju92i3CYdK1"
   },
   "source": [
    "### MNIST dataset "
   ]
  },
  {
   "cell_type": "code",
   "execution_count": 5,
   "metadata": {
    "colab": {
     "base_uri": "https://localhost:8080/"
    },
    "executionInfo": {
     "elapsed": 527,
     "status": "ok",
     "timestamp": 1649158565314,
     "user": {
      "displayName": "Xavier Bresson",
      "userId": "14103767471123103792"
     },
     "user_tz": -480
    },
    "id": "750I1YxrYdK1",
    "outputId": "81f46628-99a5-4797-ccc4-f73d64bd0ff3"
   },
   "outputs": [
    {
     "name": "stdout",
     "output_type": "stream",
     "text": [
      "torch.Size([60000, 28, 28])\n"
     ]
    }
   ],
   "source": [
    "from utils import check_mnist_dataset_exists\n",
    "data_path=check_mnist_dataset_exists()\n",
    "\n",
    "train_data=torch.load(data_path+'mnist/train_data.pt')\n",
    "train_label=torch.load(data_path+'mnist/train_label.pt')\n",
    "print(train_data.size())"
   ]
  },
  {
   "cell_type": "markdown",
   "metadata": {
    "id": "TitZR-3YsDBW"
   },
   "source": [
    "### Network architecture"
   ]
  },
  {
   "cell_type": "code",
   "execution_count": 6,
   "metadata": {
    "executionInfo": {
     "elapsed": 3,
     "status": "ok",
     "timestamp": 1649158565315,
     "user": {
      "displayName": "Xavier Bresson",
      "userId": "14103767471123103792"
     },
     "user_tz": -480
    },
    "id": "2N0XCCvjsDBX"
   },
   "outputs": [],
   "source": [
    "# Global constants\n",
    "# n : nb of pixels along each spatial dimension\n",
    "# dz : latent dimension\n",
    "# d : hidden dimension\n",
    "# b : batch size\n",
    "n = train_data.size(1)\n",
    "dz = n\n",
    "d = 32* (n//4)**2 # hidden dimension is a function of image size\n",
    "b = 64\n"
   ]
  },
  {
   "cell_type": "code",
   "execution_count": 7,
   "metadata": {
    "colab": {
     "base_uri": "https://localhost:8080/"
    },
    "executionInfo": {
     "elapsed": 5152,
     "status": "ok",
     "timestamp": 1649158570464,
     "user": {
      "displayName": "Xavier Bresson",
      "userId": "14103767471123103792"
     },
     "user_tz": -480
    },
    "id": "3nV6N-9PYdK2",
    "outputId": "3da29cc3-ac3f-4d12-83e0-123f4442c8fc"
   },
   "outputs": [
    {
     "name": "stdout",
     "output_type": "stream",
     "text": [
      "generator(\n",
      "  (linear1): Linear(in_features=28, out_features=1568, bias=True)\n",
      "  (bn1): BatchNorm1d(1568, eps=1e-05, momentum=0.1, affine=True, track_running_stats=True)\n",
      "  (linear2): Linear(in_features=1568, out_features=1568, bias=True)\n",
      "  (bn2): BatchNorm1d(1568, eps=1e-05, momentum=0.1, affine=True, track_running_stats=True)\n",
      "  (linear3): Linear(in_features=1568, out_features=784, bias=True)\n",
      ")\n",
      "There are 3742032 (3.74 million) parameters in this neural network\n",
      "discriminator(\n",
      "  (linear1): Linear(in_features=784, out_features=1568, bias=True)\n",
      "  (bn1): BatchNorm1d(1568, eps=1e-05, momentum=0.1, affine=True, track_running_stats=True)\n",
      "  (linear2): Linear(in_features=1568, out_features=1568, bias=True)\n",
      "  (bn2): BatchNorm1d(1568, eps=1e-05, momentum=0.1, affine=True, track_running_stats=True)\n",
      "  (linear3): Linear(in_features=1568, out_features=1, bias=True)\n",
      ")\n",
      "There are 3698913 (3.70 million) parameters in this neural network\n",
      "torch.Size([10, 784])\n",
      "torch.Size([10, 28])\n",
      "torch.Size([10, 1, 28, 28]) torch.Size([10, 1])\n",
      "torch.Size([10, 1, 28, 28]) torch.Size([10, 1]) torch.Size([10, 1])\n"
     ]
    }
   ],
   "source": [
    "# Define the generator and discriminator networks\n",
    "class generator(nn.Module):\n",
    "    def __init__(self):\n",
    "        super(generator, self).__init__()\n",
    "        # COMPLETE HERE\n",
    "        self.linear1 = nn.Linear(dz, d, bias=True) \n",
    "        self.bn1 = nn.BatchNorm1d(d)\n",
    "        self.linear2 = nn.Linear(d, d, bias=True) \n",
    "        self.bn2 = nn.BatchNorm1d(d)\n",
    "        self.linear3 = nn.Linear(d, n**2, bias=True)\n",
    "    def forward(self, z): \n",
    "        # COMPLETE HERE\n",
    "        h = self.linear1(z) # [b, d]\n",
    "        h = self.bn1(h)\n",
    "        h = torch.relu(h)\n",
    "        h = self.linear2(h) # [b, d]\n",
    "        h = self.bn2(h)\n",
    "        h = torch.relu(h)\n",
    "        h = self.linear3(h) # [b, n**2]\n",
    "        h = h.view(-1, 1, n, n) # [b, 1, n, n], nb colors = 1\n",
    "        #g_z = torch.tanh(h) # in general [-1,1]\n",
    "        g_z = torch.sigmoid(h) # for mnist [0,1]\n",
    "        return g_z\n",
    "\n",
    "class discriminator(nn.Module):\n",
    "    def __init__(self):\n",
    "        super(discriminator, self).__init__()\n",
    "        # COMPLETE HERE\n",
    "        self.linear1 = nn.Linear(n**2, d, bias=True)\n",
    "        self.bn1 = nn.BatchNorm1d(d)\n",
    "        self.linear2 = nn.Linear(d, d, bias=True)\n",
    "        self.bn2 = nn.BatchNorm1d(d)\n",
    "        self.linear3 = nn.Linear(d, 1, bias=True)\n",
    "    def forward(self, h): \n",
    "        # COMPLETE HERE\n",
    "        h = h.view(-1, n**2) # [b, n**2]\n",
    "        h = self.linear1(h) # [b, d]\n",
    "        h = self.bn1(h)\n",
    "        h = torch.relu(h)\n",
    "        h = self.linear2(h) # [b, d]\n",
    "        h = self.bn2(h)\n",
    "        h = torch.relu(h)\n",
    "        h = self.linear3(h) # [b, 1], nb colors = 1\n",
    "        d_h = torch.sigmoid(h)\n",
    "        return d_h\n",
    "\n",
    "# Instantiate the network\n",
    "net_g = generator()\n",
    "net_g = net_g.to(device)\n",
    "print(net_g)\n",
    "utils.display_num_param(net_g) \n",
    "net_d = discriminator()\n",
    "net_d = net_d.to(device)\n",
    "print(net_d)\n",
    "utils.display_num_param(net_d) \n",
    "\n",
    "# Test the forward pass, backward pass and gradient update with a single batch\n",
    "init_lr = 0.001\n",
    "optimizer_g = torch.optim.Adam(net_g.parameters(), lr=init_lr)\n",
    "optimizer_d = torch.optim.Adam(net_d.parameters(), lr=init_lr)\n",
    "\n",
    "b = 10\n",
    "idx = torch.LongTensor(b).random_(0,60000)\n",
    "x_real = train_data[idx,:,:].view(b,-1).to(device) # [b, n**2]\n",
    "print(x_real.size())\n",
    "\n",
    "z = torch.rand(b, dz).to(device) # [b, dz]\n",
    "print(z.size())\n",
    "\n",
    "p_one = torch.ones(b, 1).to(device)\n",
    "p_zero = torch.zeros(b, 1).to(device)\n",
    "\n",
    "# update g\n",
    "optimizer_g.zero_grad()\n",
    "x_fake = net_g(z) # [b, 1, n, n]\n",
    "p_fake = net_d(x_fake) # [b, 1]\n",
    "print(x_fake.size(), p_fake.size())\n",
    "loss_fake = nn.BCELoss()(p_fake, p_one)\n",
    "loss = loss_fake\n",
    "loss.backward()\n",
    "optimizer_g.step()\n",
    "\n",
    "# update d\n",
    "optimizer_d.zero_grad()\n",
    "x_fake = net_g(z) # [b, 1, n, n]\n",
    "p_fake = net_d(x_fake) # [b, 1]\n",
    "p_real = net_d(x_real.view(-1,n,n).unsqueeze(1)) # [b, 1]\n",
    "print(x_fake.size(), p_fake.size(), p_real.size())\n",
    "loss_real = nn.BCELoss()(p_real, p_one)\n",
    "loss_fake = nn.BCELoss()(p_fake, p_zero)\n",
    "loss = loss_real + loss_fake\n",
    "loss.backward()\n",
    "optimizer_d.step()\n"
   ]
  },
  {
   "cell_type": "code",
   "execution_count": 8,
   "metadata": {
    "colab": {
     "base_uri": "https://localhost:8080/",
     "height": 1000
    },
    "executionInfo": {
     "elapsed": 59651,
     "status": "ok",
     "timestamp": 1649158630112,
     "user": {
      "displayName": "Xavier Bresson",
      "userId": "14103767471123103792"
     },
     "user_tz": -480
    },
    "id": "tvuWro5BYdK4",
    "outputId": "54f5572e-5a78-4b84-c334-d69b023b52c2",
    "scrolled": false
   },
   "outputs": [
    {
     "name": "stdout",
     "output_type": "stream",
     "text": [
      "generator(\n",
      "  (linear1): Linear(in_features=28, out_features=1568, bias=True)\n",
      "  (bn1): BatchNorm1d(1568, eps=1e-05, momentum=0.1, affine=True, track_running_stats=True)\n",
      "  (linear2): Linear(in_features=1568, out_features=1568, bias=True)\n",
      "  (bn2): BatchNorm1d(1568, eps=1e-05, momentum=0.1, affine=True, track_running_stats=True)\n",
      "  (linear3): Linear(in_features=1568, out_features=784, bias=True)\n",
      ")\n",
      "There are 3742032 (3.74 million) parameters in this neural network\n",
      "discriminator(\n",
      "  (linear1): Linear(in_features=784, out_features=1568, bias=True)\n",
      "  (bn1): BatchNorm1d(1568, eps=1e-05, momentum=0.1, affine=True, track_running_stats=True)\n",
      "  (linear2): Linear(in_features=1568, out_features=1568, bias=True)\n",
      "  (bn2): BatchNorm1d(1568, eps=1e-05, momentum=0.1, affine=True, track_running_stats=True)\n",
      "  (linear3): Linear(in_features=1568, out_features=1, bias=True)\n",
      ")\n",
      "There are 3698913 (3.70 million) parameters in this neural network\n",
      "epoch= 0 \t time= 0.03298693895339966 min \t lr= 0.0002 \t loss_d= 1.020421431362629 \t loss_g= 1.1478530696034432\n"
     ]
    },
    {
     "data": {
      "image/png": "[encoded data removed]",
      "text/plain": [
       "<Figure size 432x288 with 1 Axes>"
      ]
     },
     "metadata": {
      "needs_background": "light"
     },
     "output_type": "display_data"
    },
    {
     "name": "stdout",
     "output_type": "stream",
     "text": [
      "epoch= 1 \t time= 0.05477786858876546 min \t lr= 0.0002 \t loss_d= 0.9305680349469185 \t loss_g= 1.2784087067842484\n",
      "epoch= 2 \t time= 0.07396751244862874 min \t lr= 0.0002 \t loss_d= 0.8705006021261216 \t loss_g= 1.4018494176864624\n",
      "epoch= 3 \t time= 0.09274680217107137 min \t lr= 0.0002 \t loss_d= 0.8245695340633392 \t loss_g= 1.5128518003225326\n",
      "epoch= 4 \t time= 0.1115909457206726 min \t lr= 0.0002 \t loss_d= 0.7745546501874924 \t loss_g= 1.6279465556144714\n",
      "epoch= 5 \t time= 0.1305564085642497 min \t lr= 0.0002 \t loss_d= 0.7402102220058441 \t loss_g= 1.7142705124616624\n"
     ]
    },
    {
     "data": {
      "image/png": "[encoded data removed]",
      "text/plain": [
       "<Figure size 432x288 with 1 Axes>"
      ]
     },
     "metadata": {
      "needs_background": "light"
     },
     "output_type": "display_data"
    },
    {
     "name": "stdout",
     "output_type": "stream",
     "text": [
      "epoch= 6 \t time= 0.1514657457669576 min \t lr= 0.0002 \t loss_d= 0.718082845211029 \t loss_g= 1.7974543160200118\n",
      "epoch= 7 \t time= 0.1705289880434672 min \t lr= 0.0002 \t loss_d= 0.7079407374560833 \t loss_g= 1.8449483609199524\n",
      "epoch= 8 \t time= 0.18962666193644206 min \t lr= 0.0002 \t loss_d= 0.6978975503146648 \t loss_g= 1.8979852080345154\n",
      "epoch= 9 \t time= 0.2087635040283203 min \t lr= 0.0002 \t loss_d= 0.7010449346899986 \t loss_g= 1.918608358502388\n",
      "epoch= 10 \t time= 0.2278731902440389 min \t lr= 0.0002 \t loss_d= 0.6705332206189633 \t loss_g= 1.9662166780233383\n"
     ]
    },
    {
     "data": {
      "image/png": "[encoded data removed]",
      "text/plain": [
       "<Figure size 432x288 with 1 Axes>"
      ]
     },
     "metadata": {
      "needs_background": "light"
     },
     "output_type": "display_data"
    },
    {
     "name": "stdout",
     "output_type": "stream",
     "text": [
      "epoch= 11 \t time= 0.2489567001660665 min \t lr= 0.0002 \t loss_d= 0.6638218311965466 \t loss_g= 1.9968654745817185\n",
      "epoch= 12 \t time= 0.2679940462112427 min \t lr= 0.0002 \t loss_d= 0.6511159744858742 \t loss_g= 2.0198432326316835\n",
      "epoch= 13 \t time= 0.2871708671251933 min \t lr= 0.0002 \t loss_d= 0.6511854086816311 \t loss_g= 2.0489322751760484\n",
      "epoch= 14 \t time= 0.306177544593811 min \t lr= 0.0002 \t loss_d= 0.6329393883049488 \t loss_g= 2.080729326605797\n",
      "epoch= 15 \t time= 0.32522424856821697 min \t lr= 0.0002 \t loss_d= 0.6460250620543957 \t loss_g= 2.0906161308288573\n"
     ]
    },
    {
     "data": {
      "image/png": "[encoded data removed]",
      "text/plain": [
       "<Figure size 432x288 with 1 Axes>"
      ]
     },
     "metadata": {
      "needs_background": "light"
     },
     "output_type": "display_data"
    },
    {
     "name": "stdout",
     "output_type": "stream",
     "text": [
      "epoch= 16 \t time= 0.3461824337641398 min \t lr= 0.0002 \t loss_d= 0.6394841632246971 \t loss_g= 2.128673751950264\n",
      "epoch= 17 \t time= 0.36520022551218667 min \t lr= 0.0002 \t loss_d= 0.6506831322610378 \t loss_g= 2.0949558210372925\n",
      "epoch= 18 \t time= 0.38441222508748374 min \t lr= 0.0002 \t loss_d= 0.6364356534183025 \t loss_g= 2.1222493070364\n",
      "epoch= 19 \t time= 0.40356749296188354 min \t lr= 0.0002 \t loss_d= 0.6375083173811436 \t loss_g= 2.155905623435974\n",
      "epoch= 20 \t time= 0.4224778413772583 min \t lr= 0.0002 \t loss_d= 0.6307875220477581 \t loss_g= 2.1717904764413833\n"
     ]
    },
    {
     "data": {
      "image/png": "[encoded data removed]",
      "text/plain": [
       "<Figure size 432x288 with 1 Axes>"
      ]
     },
     "metadata": {
      "needs_background": "light"
     },
     "output_type": "display_data"
    },
    {
     "name": "stdout",
     "output_type": "stream",
     "text": [
      "epoch= 21 \t time= 0.44323227008183796 min \t lr= 0.0002 \t loss_d= 0.6456231135129928 \t loss_g= 2.1660407519340517\n",
      "epoch= 22 \t time= 0.4623252749443054 min \t lr= 0.0002 \t loss_d= 0.6408127896487713 \t loss_g= 2.178518874645233\n",
      "epoch= 23 \t time= 0.4813634554545085 min \t lr= 0.0002 \t loss_d= 0.6164329901337624 \t loss_g= 2.216785210967064\n",
      "epoch= 24 \t time= 0.5007987896601359 min \t lr= 0.0002 \t loss_d= 0.6337929749488831 \t loss_g= 2.2280065494775774\n",
      "epoch= 25 \t time= 0.5201486388842265 min \t lr= 0.0002 \t loss_d= 0.619560871720314 \t loss_g= 2.23972994863987\n"
     ]
    },
    {
     "data": {
      "image/png": "[encoded data removed]",
      "text/plain": [
       "<Figure size 432x288 with 1 Axes>"
      ]
     },
     "metadata": {
      "needs_background": "light"
     },
     "output_type": "display_data"
    },
    {
     "name": "stdout",
     "output_type": "stream",
     "text": [
      "epoch= 26 \t time= 0.5411194245020549 min \t lr= 0.0002 \t loss_d= 0.6340073144435883 \t loss_g= 2.2554630464315415\n",
      "epoch= 27 \t time= 0.5604581475257874 min \t lr= 0.0002 \t loss_d= 0.6031286177039147 \t loss_g= 2.294769010543823\n",
      "epoch= 28 \t time= 0.5796715418497721 min \t lr= 0.0002 \t loss_d= 0.6096241317689419 \t loss_g= 2.299722871184349\n",
      "epoch= 29 \t time= 0.5987370769182842 min \t lr= 0.0002 \t loss_d= 0.6126404350996018 \t loss_g= 2.303983797430992\n",
      "epoch= 30 \t time= 0.6178277889887492 min \t lr= 0.0002 \t loss_d= 0.5935806809365749 \t loss_g= 2.337745008468628\n"
     ]
    },
    {
     "data": {
      "image/png": "[encoded data removed]",
      "text/plain": [
       "<Figure size 432x288 with 1 Axes>"
      ]
     },
     "metadata": {
      "needs_background": "light"
     },
     "output_type": "display_data"
    },
    {
     "name": "stdout",
     "output_type": "stream",
     "text": [
      "epoch= 31 \t time= 0.6391781648000081 min \t lr= 0.0002 \t loss_d= 0.6200281602144241 \t loss_g= 2.327619999051094\n",
      "epoch= 32 \t time= 0.6583124279975892 min \t lr= 0.0002 \t loss_d= 0.5887693780660629 \t loss_g= 2.3817252761125562\n",
      "epoch= 33 \t time= 0.677509093284607 min \t lr= 0.0002 \t loss_d= 0.5840871402621269 \t loss_g= 2.3949041920900345\n",
      "epoch= 34 \t time= 0.696529217561086 min \t lr= 0.0002 \t loss_d= 0.5848619554936886 \t loss_g= 2.4321829295158386\n",
      "epoch= 35 \t time= 0.7156703472137451 min \t lr= 0.0002 \t loss_d= 0.6089168457686901 \t loss_g= 2.4007137447595595\n"
     ]
    },
    {
     "data": {
      "image/png": "[encoded data removed]",
      "text/plain": [
       "<Figure size 432x288 with 1 Axes>"
      ]
     },
     "metadata": {
      "needs_background": "light"
     },
     "output_type": "display_data"
    },
    {
     "name": "stdout",
     "output_type": "stream",
     "text": [
      "epoch= 36 \t time= 0.7365267992019653 min \t lr= 0.0002 \t loss_d= 0.5989102725684643 \t loss_g= 2.3877546286582945\n",
      "epoch= 37 \t time= 0.7555867552757263 min \t lr= 0.0002 \t loss_d= 0.5995367129147052 \t loss_g= 2.4262288880348204\n",
      "epoch= 38 \t time= 0.7747008244196574 min \t lr= 0.0002 \t loss_d= 0.5908481845259667 \t loss_g= 2.441708193421364\n",
      "epoch= 39 \t time= 0.7937266667683919 min \t lr= 0.0002 \t loss_d= 0.5870565706491471 \t loss_g= 2.469106280207634\n",
      "epoch= 40 \t time= 0.8129703879356385 min \t lr= 0.0002 \t loss_d= 0.5823214234411717 \t loss_g= 2.4482531571388244\n"
     ]
    },
    {
     "data": {
      "image/png": "[encoded data removed]",
      "text/plain": [
       "<Figure size 432x288 with 1 Axes>"
      ]
     },
     "metadata": {
      "needs_background": "light"
     },
     "output_type": "display_data"
    },
    {
     "name": "stdout",
     "output_type": "stream",
     "text": [
      "epoch= 41 \t time= 0.834057895342509 min \t lr= 0.0002 \t loss_d= 0.5727440223097802 \t loss_g= 2.5007291901111603\n",
      "epoch= 42 \t time= 0.8534605741500855 min \t lr= 0.0002 \t loss_d= 0.576396492421627 \t loss_g= 2.4709855675697328\n",
      "epoch= 43 \t time= 0.8726192196210225 min \t lr= 0.0002 \t loss_d= 0.5910802780091763 \t loss_g= 2.501267120838165\n",
      "epoch= 44 \t time= 0.8918203592300415 min \t lr= 0.0002 \t loss_d= 0.5551182848215103 \t loss_g= 2.5391102612018583\n",
      "epoch= 45 \t time= 0.910983411471049 min \t lr= 0.0002 \t loss_d= 0.5706948611140251 \t loss_g= 2.539969789981842\n"
     ]
    },
    {
     "data": {
      "image/png": "[encoded data removed]",
      "text/plain": [
       "<Figure size 432x288 with 1 Axes>"
      ]
     },
     "metadata": {
      "needs_background": "light"
     },
     "output_type": "display_data"
    },
    {
     "name": "stdout",
     "output_type": "stream",
     "text": [
      "epoch= 46 \t time= 0.9320364276568095 min \t lr= 0.0002 \t loss_d= 0.5654441990703344 \t loss_g= 2.5565446996688843\n",
      "epoch= 47 \t time= 0.951284380753835 min \t lr= 0.0002 \t loss_d= 0.5683184778690338 \t loss_g= 2.5629829597473144\n",
      "epoch= 48 \t time= 0.9707014640172322 min \t lr= 0.0002 \t loss_d= 0.5807427188754082 \t loss_g= 2.5622077798843383\n",
      "epoch= 49 \t time= 0.9898236632347107 min \t lr= 0.0002 \t loss_d= 0.5727871438860893 \t loss_g= 2.561962877511978\n"
     ]
    }
   ],
   "source": [
    "# Training loop\n",
    "net_g = generator()\n",
    "net_g = net_g.to(device)\n",
    "print(net_g)\n",
    "utils.display_num_param(net_g) \n",
    "net_d = discriminator()\n",
    "net_d = net_d.to(device)\n",
    "print(net_d)\n",
    "utils.display_num_param(net_d) \n",
    "\n",
    "# Optimizer\n",
    "init_lr = 0.0002\n",
    "optimizer_g = torch.optim.Adam(net_g.parameters(), lr=init_lr, betas=(0.5, 0.999))\n",
    "optimizer_d = torch.optim.Adam(net_d.parameters(), lr=init_lr, betas=(0.5, 0.999))\n",
    "\n",
    "nb_batch = 200 # GPU # Nb of mini-batches per epoch\n",
    "#nb_batch = 20 # CPU # Nb of mini-batches per epoch\n",
    "b = 64  # Batch size\n",
    "\n",
    "p_one = torch.ones(b, 1).to(device)\n",
    "p_zero = torch.zeros(b, 1).to(device)\n",
    "\n",
    "start=time.time()\n",
    "for epoch in range(50):\n",
    "\n",
    "    running_loss_d = 0.0\n",
    "    running_loss_g = 0.0\n",
    "    num_batches = 0\n",
    "    \n",
    "    for _ in range(nb_batch):\n",
    "        \n",
    "        # FORWARD AND BACKWARD PASS\n",
    "        idx = torch.LongTensor(b).random_(0,60000)\n",
    "        x_real = train_data[idx,:,:].view(b,-1).to(device) # [b, n**2]\n",
    "        z = torch.rand(b, dz).to(device) # Uniform distribution # [b, dz]\n",
    "        \n",
    "        # update d\n",
    "        optimizer_d.zero_grad()\n",
    "        x_fake = net_g(z) # [b, 1, n, n]\n",
    "        p_fake = net_d(x_fake) # [b, 1]\n",
    "        p_real = net_d(x_real.view(-1,n,n).unsqueeze(1)) # [b, 1]\n",
    "        loss_real = nn.BCELoss()(p_real, p_one)\n",
    "        loss_fake = nn.BCELoss()(p_fake, p_zero)\n",
    "        loss = loss_real + loss_fake\n",
    "        loss_d = loss.detach().item()\n",
    "        loss.backward()\n",
    "        optimizer_d.step()\n",
    "        \n",
    "        # update g\n",
    "        optimizer_g.zero_grad()\n",
    "        x_fake = net_g(z) # [b, 1, n, n]\n",
    "        p_fake = net_d(x_fake) # [b, 1]\n",
    "        loss_fake = nn.BCELoss()(p_fake, p_one)\n",
    "        loss = loss_fake\n",
    "        loss_g = loss.detach().item()\n",
    "        loss.backward()\n",
    "        optimizer_g.step()\n",
    "\n",
    "        # COMPUTE STATS\n",
    "        running_loss_d += loss_d\n",
    "        running_loss_g += loss_g\n",
    "        num_batches += 1        \n",
    "    \n",
    "    # AVERAGE STATS THEN DISPLAY\n",
    "    total_loss_d = running_loss_d/ num_batches\n",
    "    total_loss_g = running_loss_g/ num_batches\n",
    "    elapsed = (time.time()-start)/60\n",
    "    print('epoch=',epoch, '\\t time=', elapsed,'min', '\\t lr=', init_lr  ,'\\t loss_d=', total_loss_d ,'\\t loss_g=', total_loss_g )\n",
    "\n",
    "    if not epoch%5:\n",
    "        plt.imshow(x_fake.view(b,n,n).detach().cpu()[0,:,:], cmap='gray'); plt.show() \n",
    "    "
   ]
  },
  {
   "cell_type": "code",
   "execution_count": 9,
   "metadata": {
    "colab": {
     "base_uri": "https://localhost:8080/",
     "height": 1000
    },
    "executionInfo": {
     "elapsed": 1095,
     "status": "ok",
     "timestamp": 1649158631202,
     "user": {
      "displayName": "Xavier Bresson",
      "userId": "14103767471123103792"
     },
     "user_tz": -480
    },
    "id": "pT0g6UC0YdK5",
    "outputId": "cca7c17e-155f-44f8-f661-8c75a3a9c8b0",
    "scrolled": false
   },
   "outputs": [
    {
     "data": {
      "image/png": "[encoded data removed]",
      "text/plain": [
       "<Figure size 432x288 with 1 Axes>"
      ]
     },
     "metadata": {
      "needs_background": "light"
     },
     "output_type": "display_data"
    },
    {
     "data": {
      "image/png": "[encoded data removed]",
      "text/plain": [
       "<Figure size 432x288 with 1 Axes>"
      ]
     },
     "metadata": {
      "needs_background": "light"
     },
     "output_type": "display_data"
    },
    {
     "data": {
      "image/png": "[encoded data removed]",
      "text/plain": [
       "<Figure size 432x288 with 1 Axes>"
      ]
     },
     "metadata": {
      "needs_background": "light"
     },
     "output_type": "display_data"
    },
    {
     "data": {
      "image/png": "[encoded data removed]",
      "text/plain": [
       "<Figure size 432x288 with 1 Axes>"
      ]
     },
     "metadata": {
      "needs_background": "light"
     },
     "output_type": "display_data"
    },
    {
     "data": {
      "image/png": "[encoded data removed]",
      "text/plain": [
       "<Figure size 432x288 with 1 Axes>"
      ]
     },
     "metadata": {
      "needs_background": "light"
     },
     "output_type": "display_data"
    },
    {
     "data": {
      "image/png": "[encoded data removed]",
      "text/plain": [
       "<Figure size 432x288 with 1 Axes>"
      ]
     },
     "metadata": {
      "needs_background": "light"
     },
     "output_type": "display_data"
    },
    {
     "data": {
      "image/png": "[encoded data removed]",
      "text/plain": [
       "<Figure size 432x288 with 1 Axes>"
      ]
     },
     "metadata": {
      "needs_background": "light"
     },
     "output_type": "display_data"
    },
    {
     "data": {
      "image/png": "[encoded data removed]",
      "text/plain": [
       "<Figure size 432x288 with 1 Axes>"
      ]
     },
     "metadata": {
      "needs_background": "light"
     },
     "output_type": "display_data"
    },
    {
     "data": {
      "image/png": "[encoded data removed]",
      "text/plain": [
       "<Figure size 432x288 with 1 Axes>"
      ]
     },
     "metadata": {
      "needs_background": "light"
     },
     "output_type": "display_data"
    },
    {
     "data": {
      "image/png": "[encoded data removed]",
      "text/plain": [
       "<Figure size 432x288 with 1 Axes>"
      ]
     },
     "metadata": {
      "needs_background": "light"
     },
     "output_type": "display_data"
    }
   ],
   "source": [
    "# Generate a few images\n",
    "b = 10\n",
    "z = torch.rand(b, dz) # Uniform distribution \n",
    "z = z.to(device)\n",
    "x_new = net_g(z).view(b,n,n).detach().cpu()\n",
    "for k in range(b):\n",
    "    plt.imshow(x_new[k,:,:], cmap='gray'); plt.show() \n",
    "  "
   ]
  },
  {
   "cell_type": "code",
   "execution_count": 9,
   "metadata": {
    "executionInfo": {
     "elapsed": 5,
     "status": "ok",
     "timestamp": 1649158631202,
     "user": {
      "displayName": "Xavier Bresson",
      "userId": "14103767471123103792"
     },
     "user_tz": -480
    },
    "id": "0Hw31504YdK6"
   },
   "outputs": [],
   "source": []
  }
 ],
 "metadata": {
  "accelerator": "GPU",
  "colab": {
   "collapsed_sections": [],
   "name": "GAN_MLP_solution.ipynb",
   "provenance": []
  },
  "kernelspec": {
   "display_name": "Python 3 (ipykernel)",
   "language": "python",
   "name": "python3"
  },
  "language_info": {
   "codemirror_mode": {
    "name": "ipython",
    "version": 3
   },
   "file_extension": ".py",
   "mimetype": "text/x-python",
   "name": "python",
   "nbconvert_exporter": "python",
   "pygments_lexer": "ipython3",
   "version": "3.7.10"
  }
 },
 "nbformat": 4,
 "nbformat_minor": 1
}
