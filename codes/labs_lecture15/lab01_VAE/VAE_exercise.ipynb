{
 "cells": [
  {
   "cell_type": "markdown",
   "metadata": {},
   "source": [
    "# Lab 01 : Vanilla VAE - exercise\n",
    "\n",
    "The goal is to implement a VAE architecture with MLPs to generate new MNIST images.</br>"
   ]
  },
  {
   "cell_type": "code",
   "execution_count": 1,
   "metadata": {},
   "outputs": [],
   "source": [
    "# For Google Colaboratory\n",
    "import sys, os\n",
    "if 'google.colab' in sys.modules:\n",
    "    # mount google drive\n",
    "    from google.colab import drive\n",
    "    drive.mount('/content/gdrive')\n",
    "    path_to_file = '/content/gdrive/My Drive/CS4243_codes/codes/labs_lecture15/lab01_VAE'\n",
    "    print(path_to_file)\n",
    "    # move to Google Drive directory\n",
    "    os.chdir(path_to_file)\n",
    "    !pwd"
   ]
  },
  {
   "cell_type": "code",
   "execution_count": 2,
   "metadata": {},
   "outputs": [],
   "source": [
    "import torch\n",
    "import torch.nn as nn\n",
    "import torch.optim as optim\n",
    "import utils\n",
    "import time"
   ]
  },
  {
   "cell_type": "code",
   "execution_count": 3,
   "metadata": {},
   "outputs": [
    {
     "name": "stdout",
     "output_type": "stream",
     "text": [
      "cpu\n"
     ]
    }
   ],
   "source": [
    "#device= torch.device(\"cuda\")\n",
    "device= torch.device(\"cpu\")\n",
    "print(device)"
   ]
  },
  {
   "cell_type": "code",
   "execution_count": 4,
   "metadata": {},
   "outputs": [],
   "source": [
    "# Libraries\n",
    "import matplotlib.pyplot as plt\n",
    "import logging\n",
    "logging.getLogger().setLevel(logging.CRITICAL) # remove warnings"
   ]
  },
  {
   "cell_type": "markdown",
   "metadata": {},
   "source": [
    "### MNIST dataset "
   ]
  },
  {
   "cell_type": "code",
   "execution_count": 5,
   "metadata": {},
   "outputs": [
    {
     "name": "stdout",
     "output_type": "stream",
     "text": [
      "torch.Size([60000, 28, 28])\n"
     ]
    }
   ],
   "source": [
    "from utils import check_mnist_dataset_exists\n",
    "data_path=check_mnist_dataset_exists()\n",
    "\n",
    "train_data=torch.load(data_path+'mnist/train_data.pt')\n",
    "train_label=torch.load(data_path+'mnist/train_label.pt')\n",
    "print(train_data.size())"
   ]
  },
  {
   "cell_type": "markdown",
   "metadata": {},
   "source": [
    "### Network architecture"
   ]
  },
  {
   "cell_type": "code",
   "execution_count": 6,
   "metadata": {},
   "outputs": [],
   "source": [
    "# Global constants\n",
    "# n : nb of pixels along each spatial dimension\n",
    "# dz : latent dimension\n",
    "# d : hidden dimension\n",
    "# b : batch size\n",
    "n = train_data.size(1)\n",
    "dz = 20\n",
    "d = 400\n",
    "b = 64\n"
   ]
  },
  {
   "cell_type": "code",
   "execution_count": 7,
   "metadata": {},
   "outputs": [
    {
     "name": "stdout",
     "output_type": "stream",
     "text": [
      "VAE(\n",
      "  (linear_q): Linear(in_features=784, out_features=400, bias=True)\n",
      "  (linear_q_mu): Linear(in_features=400, out_features=20, bias=True)\n",
      "  (linear_q_logvar): Linear(in_features=400, out_features=20, bias=True)\n",
      "  (linear1_p): Linear(in_features=20, out_features=400, bias=True)\n",
      "  (linear2_p): Linear(in_features=400, out_features=784, bias=True)\n",
      ")\n",
      "There are 652824 (0.65 million) parameters in this neural network\n",
      "torch.Size([64, 784])\n",
      "torch.Size([64, 784])\n"
     ]
    }
   ],
   "source": [
    "# Define  VAE architecture\n",
    "class VAE(nn.Module):\n",
    "    \n",
    "    def __init__(self):\n",
    "        super(VAE, self).__init__()\n",
    "        # COMPLETE HERE\n",
    "        # Encoder x => z\n",
    "        self.linear_q        = \n",
    "        self.linear_q_mu     = \n",
    "        self.linear_q_logvar = \n",
    "        # Decoder z => x\n",
    "        self.linear1_p = \n",
    "        self.linear2_p = \n",
    "        \n",
    "    def forward(self, x, train=True): \n",
    "        # COMPLETE HERE\n",
    "        # Encoder x => z\n",
    "        if train:\n",
    "            q_mu = \n",
    "            q_logvar = \n",
    "            z = \n",
    "        else:\n",
    "            z = \n",
    "            q_mu, q_logvar = _, _\n",
    "        # Decoder z => x\n",
    "        x_recons = \n",
    "        return x_recons, q_mu, q_logvar\n",
    "    \n",
    "# Instantiate the network\n",
    "net = VAE()\n",
    "net = net.to(device)\n",
    "print(net)\n",
    "utils.display_num_param(net) \n",
    "\n",
    "# Test the forward pass, backward pass and gradient update with a single batch\n",
    "init_lr = 0.001\n",
    "optimizer = torch.optim.Adam(net.parameters(), lr=init_lr)\n",
    "b = 64\n",
    "idx = torch.LongTensor(b).random_(0,60000)\n",
    "batch_images = train_data[idx,:,:].view(b,-1) # [b, n**2]\n",
    "print(batch_images.size())\n",
    "optimizer.zero_grad()\n",
    "x_recons, q_mu, q_logvar = net(batch_images) # [b, n**2]\n",
    "print(x_recons.size())\n",
    "# loss\n",
    "loss_data =  nn.BCELoss()(x_recons, batch_images)\n",
    "loss_KL = - 0.5* torch.mean( 1.0 + q_logvar - q_mu.pow(2.0) - q_logvar.exp() )\n",
    "loss = loss_data + loss_KL\n",
    "loss.backward()\n",
    "optimizer.step()\n"
   ]
  },
  {
   "cell_type": "code",
   "execution_count": 8,
   "metadata": {},
   "outputs": [
    {
     "name": "stdout",
     "output_type": "stream",
     "text": [
      "There are 652824 (0.65 million) parameters in this neural network\n",
      "epoch= 0 \t time= 0.025901297728220623 min \t lr= 0.001 \t loss= 2.7889480125904083\n",
      "epoch= 1 \t time= 0.050717465082804364 min \t lr= 0.001 \t loss= 2.2771673893928526\n",
      "epoch= 2 \t time= 0.07430638472239176 min \t lr= 0.001 \t loss= 2.1828638541698457\n",
      "epoch= 3 \t time= 0.09813201824824015 min \t lr= 0.001 \t loss= 2.1135540717840193\n",
      "epoch= 4 \t time= 0.1395319660504659 min \t lr= 0.001 \t loss= 2.082838362455368\n",
      "epoch= 5 \t time= 0.1676922122637431 min \t lr= 0.001 \t loss= 2.0529029893875124\n",
      "epoch= 6 \t time= 0.19256298144658407 min \t lr= 0.001 \t loss= 2.0360528415441514\n",
      "epoch= 7 \t time= 0.2185978651046753 min \t lr= 0.001 \t loss= 2.0162938237190247\n",
      "epoch= 8 \t time= 0.2445894479751587 min \t lr= 0.001 \t loss= 2.008522623181343\n",
      "epoch= 9 \t time= 0.2687270005544027 min \t lr= 0.001 \t loss= 1.9938220167160035\n"
     ]
    }
   ],
   "source": [
    "# Training loop\n",
    "net = VAE()\n",
    "net = net.to(device)\n",
    "utils.display_num_param(net) \n",
    "\n",
    "# Optimizer\n",
    "init_lr = 0.001\n",
    "optimizer = torch.optim.Adam(net.parameters(), lr=init_lr)\n",
    "\n",
    "# Number of mini-batches per epoch\n",
    "nb_batch = 200 # Nb of mini-batches per epoch\n",
    "b = 64  # Batch size\n",
    "\n",
    "start=time.time()\n",
    "for epoch in range(10):\n",
    "\n",
    "    running_loss = 0.0\n",
    "    num_batches = 0\n",
    "    \n",
    "    for _ in range(nb_batch):\n",
    "        \n",
    "        # FORWARD AND BACKWARD PASS\n",
    "        idx = torch.LongTensor(b).random_(0,60000)\n",
    "        batch_images = train_data[idx,:,:].view(b,-1)\n",
    "        optimizer.zero_grad()\n",
    "        x_recons, q_mu, q_logvar = net(batch_images) \n",
    "        # loss\n",
    "        loss_data =  nn.BCELoss()(x_recons, batch_images)\n",
    "        loss_KL = - 0.5* torch.mean( 1.0 + q_logvar - q_mu.pow(2.0) - q_logvar.exp() )\n",
    "        loss = 10* loss_data + loss_KL\n",
    "        loss.backward()\n",
    "        optimizer.step()\n",
    "\n",
    "        # COMPUTE STATS\n",
    "        running_loss += loss.detach().item()\n",
    "        num_batches += 1        \n",
    "    \n",
    "    # AVERAGE STATS THEN DISPLAY\n",
    "    total_loss = running_loss/num_batches\n",
    "    elapsed = (time.time()-start)/60\n",
    "    print('epoch=',epoch, '\\t time=', elapsed,'min', '\\t lr=', init_lr  ,'\\t loss=', total_loss )\n",
    "    "
   ]
  },
  {
   "cell_type": "code",
   "execution_count": 9,
   "metadata": {
    "scrolled": false
   },
   "outputs": [
    {
     "data": {
      "image/png": "[encoded data removed]",
      "text/plain": [
       "<Figure size 432x288 with 1 Axes>"
      ]
     },
     "metadata": {
      "needs_background": "light"
     },
     "output_type": "display_data"
    },
    {
     "data": {
      "image/png": "[encoded data removed]",
      "text/plain": [
       "<Figure size 432x288 with 1 Axes>"
      ]
     },
     "metadata": {
      "needs_background": "light"
     },
     "output_type": "display_data"
    },
    {
     "data": {
      "image/png": "[encoded data removed]",
      "text/plain": [
       "<Figure size 432x288 with 1 Axes>"
      ]
     },
     "metadata": {
      "needs_background": "light"
     },
     "output_type": "display_data"
    },
    {
     "data": {
      "image/png": "[encoded data removed]",
      "text/plain": [
       "<Figure size 432x288 with 1 Axes>"
      ]
     },
     "metadata": {
      "needs_background": "light"
     },
     "output_type": "display_data"
    },
    {
     "data": {
      "image/png": "[encoded data removed]",
      "text/plain": [
       "<Figure size 432x288 with 1 Axes>"
      ]
     },
     "metadata": {
      "needs_background": "light"
     },
     "output_type": "display_data"
    },
    {
     "data": {
      "image/png": "[encoded data removed]",
      "text/plain": [
       "<Figure size 432x288 with 1 Axes>"
      ]
     },
     "metadata": {
      "needs_background": "light"
     },
     "output_type": "display_data"
    },
    {
     "data": {
      "image/png": "[encoded data removed]",
      "text/plain": [
       "<Figure size 432x288 with 1 Axes>"
      ]
     },
     "metadata": {
      "needs_background": "light"
     },
     "output_type": "display_data"
    },
    {
     "data": {
      "image/png": "[encoded data removed]",
      "text/plain": [
       "<Figure size 432x288 with 1 Axes>"
      ]
     },
     "metadata": {
      "needs_background": "light"
     },
     "output_type": "display_data"
    },
    {
     "data": {
      "image/png": "[encoded data removed]",
      "text/plain": [
       "<Figure size 432x288 with 1 Axes>"
      ]
     },
     "metadata": {
      "needs_background": "light"
     },
     "output_type": "display_data"
    },
    {
     "data": {
      "image/png": "[encoded data removed]",
      "text/plain": [
       "<Figure size 432x288 with 1 Axes>"
      ]
     },
     "metadata": {
      "needs_background": "light"
     },
     "output_type": "display_data"
    }
   ],
   "source": [
    "# Test time - auto-encode training data\n",
    "b = 5\n",
    "idx = torch.LongTensor(b).random_(0,60000)\n",
    "batch_images = train_data[idx,:,:].view(b,-1)\n",
    "x_recons, _, _ = net(batch_images) \n",
    "\n",
    "batch_images = batch_images.view(b,n,n)\n",
    "x_recons = x_recons.view(b,n,n).detach()\n",
    "        \n",
    "for b in range(b):\n",
    "    plt.imshow(batch_images[b,:,:], cmap='gray')\n",
    "    plt.title('Input')\n",
    "    #plt.axis('off')\n",
    "    plt.show() \n",
    "    plt.imshow(x_recons[b,:,:], cmap='gray')\n",
    "    plt.title('Output')\n",
    "    plt.show() "
   ]
  },
  {
   "cell_type": "code",
   "execution_count": 10,
   "metadata": {
    "scrolled": false
   },
   "outputs": [
    {
     "data": {
      "image/png": "[encoded data removed]",
      "text/plain": [
       "<Figure size 432x288 with 1 Axes>"
      ]
     },
     "metadata": {
      "needs_background": "light"
     },
     "output_type": "display_data"
    },
    {
     "data": {
      "image/png": "[encoded data removed]",
      "text/plain": [
       "<Figure size 432x288 with 1 Axes>"
      ]
     },
     "metadata": {
      "needs_background": "light"
     },
     "output_type": "display_data"
    },
    {
     "data": {
      "image/png": "[encoded data removed]",
      "text/plain": [
       "<Figure size 432x288 with 1 Axes>"
      ]
     },
     "metadata": {
      "needs_background": "light"
     },
     "output_type": "display_data"
    },
    {
     "data": {
      "image/png": "[encoded data removed]",
      "text/plain": [
       "<Figure size 432x288 with 1 Axes>"
      ]
     },
     "metadata": {
      "needs_background": "light"
     },
     "output_type": "display_data"
    },
    {
     "data": {
      "image/png": "[encoded data removed]",
      "text/plain": [
       "<Figure size 432x288 with 1 Axes>"
      ]
     },
     "metadata": {
      "needs_background": "light"
     },
     "output_type": "display_data"
    }
   ],
   "source": [
    "# Test time - generate new data\n",
    "b = 5\n",
    "x = torch.zeros(b, n**2)\n",
    "x_recons, _, _ = net(x, False) \n",
    "x_recons = x_recons.view(b,n,n).detach()\n",
    "        \n",
    "for b in range(b):\n",
    "    plt.imshow(x_recons[b,:,:], cmap='gray')\n",
    "    plt.title('Generate')\n",
    "    #plt.axis('off')\n",
    "    plt.show() "
   ]
  },
  {
   "cell_type": "code",
   "execution_count": null,
   "metadata": {},
   "outputs": [],
   "source": []
  }
 ],
 "metadata": {
  "kernelspec": {
   "display_name": "Python 3 (ipykernel)",
   "language": "python",
   "name": "python3"
  },
  "language_info": {
   "codemirror_mode": {
    "name": "ipython",
    "version": 3
   },
   "file_extension": ".py",
   "mimetype": "text/x-python",
   "name": "python",
   "nbconvert_exporter": "python",
   "pygments_lexer": "ipython3",
   "version": "3.7.10"
  }
 },
 "nbformat": 4,
 "nbformat_minor": 2
}
