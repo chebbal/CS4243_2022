{
 "cells": [
  {
   "cell_type": "markdown",
   "metadata": {
    "id": "D0jesoktYdKv"
   },
   "source": [
    "# Lab 03 : GAN with CNN - solution\n",
    "\n",
    "The goal is to implement a GAN architecture with CNNs to generate new MNIST images.</br>"
   ]
  },
  {
   "cell_type": "code",
   "execution_count": 1,
   "metadata": {
    "colab": {
     "base_uri": "https://localhost:8080/"
    },
    "executionInfo": {
     "elapsed": 25410,
     "status": "ok",
     "timestamp": 1649158928314,
     "user": {
      "displayName": "Xavier Bresson",
      "userId": "14103767471123103792"
     },
     "user_tz": -480
    },
    "id": "yQkNjE9tYdKy",
    "outputId": "1434ea3d-a7e8-4a51-860b-5f475dffeb6e"
   },
   "outputs": [
    {
     "name": "stdout",
     "output_type": "stream",
     "text": [
      "Mounted at /content/gdrive\n",
      "/content/gdrive/My Drive/GAN/new_codes/labs_lecture15/lab03_GAN_CNN\n",
      "/content/gdrive/My Drive/GAN/new_codes/labs_lecture15/lab03_GAN_CNN\n"
     ]
    }
   ],
   "source": [
    "# For Google Colaboratory\n",
    "import sys, os\n",
    "if 'google.colab' in sys.modules:\n",
    "    # mount google drive\n",
    "    from google.colab import drive\n",
    "    drive.mount('/content/gdrive')\n",
    "    path_to_file = '/content/gdrive/My Drive/CS4243_codes/codes/labs_lecture15/lab03_GAN_CNN'\n",
    "    print(path_to_file)\n",
    "    # move to Google Drive directory\n",
    "    os.chdir(path_to_file)\n",
    "    !pwd"
   ]
  },
  {
   "cell_type": "code",
   "execution_count": 2,
   "metadata": {
    "executionInfo": {
     "elapsed": 6532,
     "status": "ok",
     "timestamp": 1649158934844,
     "user": {
      "displayName": "Xavier Bresson",
      "userId": "14103767471123103792"
     },
     "user_tz": -480
    },
    "id": "ERQgahj9YdKz"
   },
   "outputs": [],
   "source": [
    "import torch\n",
    "import torch.nn as nn\n",
    "import torch.optim as optim\n",
    "import utils\n",
    "import time"
   ]
  },
  {
   "cell_type": "markdown",
   "metadata": {
    "id": "Vj1QT-TBVt6c"
   },
   "source": [
    "### GPU is required to train GAN"
   ]
  },
  {
   "cell_type": "code",
   "execution_count": 3,
   "metadata": {
    "colab": {
     "base_uri": "https://localhost:8080/"
    },
    "executionInfo": {
     "elapsed": 5,
     "status": "ok",
     "timestamp": 1649158934845,
     "user": {
      "displayName": "Xavier Bresson",
      "userId": "14103767471123103792"
     },
     "user_tz": -480
    },
    "id": "ZbjnZcmbYdKz",
    "outputId": "1dc9c3af-e52e-4e89-b2c5-e3c1ff809eb7"
   },
   "outputs": [
    {
     "name": "stdout",
     "output_type": "stream",
     "text": [
      "cuda\n"
     ]
    }
   ],
   "source": [
    "device= torch.device(\"cuda\")\n",
    "#device= torch.device(\"cpu\")\n",
    "print(device)"
   ]
  },
  {
   "cell_type": "code",
   "execution_count": 4,
   "metadata": {
    "executionInfo": {
     "elapsed": 5,
     "status": "ok",
     "timestamp": 1649158934846,
     "user": {
      "displayName": "Xavier Bresson",
      "userId": "14103767471123103792"
     },
     "user_tz": -480
    },
    "id": "x11IwMXRYdK0"
   },
   "outputs": [],
   "source": [
    "# Libraries\n",
    "import matplotlib.pyplot as plt\n",
    "import logging\n",
    "logging.getLogger().setLevel(logging.CRITICAL) # remove warnings"
   ]
  },
  {
   "cell_type": "markdown",
   "metadata": {
    "id": "2ju92i3CYdK1"
   },
   "source": [
    "### MNIST dataset "
   ]
  },
  {
   "cell_type": "code",
   "execution_count": 5,
   "metadata": {
    "colab": {
     "base_uri": "https://localhost:8080/"
    },
    "executionInfo": {
     "elapsed": 1541,
     "status": "ok",
     "timestamp": 1649158936382,
     "user": {
      "displayName": "Xavier Bresson",
      "userId": "14103767471123103792"
     },
     "user_tz": -480
    },
    "id": "750I1YxrYdK1",
    "outputId": "163f9934-f98c-449f-f9c0-5d3b22922d10"
   },
   "outputs": [
    {
     "name": "stdout",
     "output_type": "stream",
     "text": [
      "torch.Size([60000, 28, 28])\n"
     ]
    }
   ],
   "source": [
    "from utils import check_mnist_dataset_exists\n",
    "data_path=check_mnist_dataset_exists()\n",
    "\n",
    "train_data=torch.load(data_path+'mnist/train_data.pt')\n",
    "train_label=torch.load(data_path+'mnist/train_label.pt')\n",
    "print(train_data.size())"
   ]
  },
  {
   "cell_type": "markdown",
   "metadata": {
    "id": "4e4Ed6Hdpw2_"
   },
   "source": [
    "### Network architecture"
   ]
  },
  {
   "cell_type": "code",
   "execution_count": 6,
   "metadata": {
    "executionInfo": {
     "elapsed": 4,
     "status": "ok",
     "timestamp": 1649158936382,
     "user": {
      "displayName": "Xavier Bresson",
      "userId": "14103767471123103792"
     },
     "user_tz": -480
    },
    "id": "I5MUdYLwpw3A"
   },
   "outputs": [],
   "source": [
    "# Global constants\n",
    "# n : nb of pixels along each spatial dimension\n",
    "# dz : latent dimension\n",
    "# d : hidden dimension\n",
    "# b : batch size\n",
    "n = train_data.size(1)\n",
    "dz = n\n",
    "d = 128\n",
    "b = 64\n"
   ]
  },
  {
   "cell_type": "code",
   "execution_count": 7,
   "metadata": {
    "colab": {
     "base_uri": "https://localhost:8080/"
    },
    "executionInfo": {
     "elapsed": 9180,
     "status": "ok",
     "timestamp": 1649158945559,
     "user": {
      "displayName": "Xavier Bresson",
      "userId": "14103767471123103792"
     },
     "user_tz": -480
    },
    "id": "3nV6N-9PYdK2",
    "outputId": "9ca267ef-a39e-4b63-ec64-5d80245c2288"
   },
   "outputs": [
    {
     "name": "stdout",
     "output_type": "stream",
     "text": [
      "generator(\n",
      "  (linear1): Linear(in_features=28, out_features=128, bias=True)\n",
      "  (bn1): BatchNorm1d(128, eps=1e-05, momentum=0.1, affine=True, track_running_stats=True)\n",
      "  (linear2): Linear(in_features=128, out_features=6272, bias=True)\n",
      "  (bn2): BatchNorm1d(6272, eps=1e-05, momentum=0.1, affine=True, track_running_stats=True)\n",
      "  (tconv1): ConvTranspose2d(128, 128, kernel_size=(4, 4), stride=(2, 2), padding=(1, 1))\n",
      "  (bn3): BatchNorm2d(128, eps=1e-05, momentum=0.1, affine=True, track_running_stats=True)\n",
      "  (tconv2): ConvTranspose2d(128, 1, kernel_size=(4, 4), stride=(2, 2), padding=(1, 1))\n",
      ")\n",
      "There are 1090177 (1.09 million) parameters in this neural network\n",
      "discriminator(\n",
      "  (conv1): Conv2d(1, 128, kernel_size=(4, 4), stride=(2, 2), padding=(1, 1))\n",
      "  (bn1): BatchNorm2d(128, eps=1e-05, momentum=0.1, affine=True, track_running_stats=True)\n",
      "  (conv2): Conv2d(128, 128, kernel_size=(4, 4), stride=(2, 2), padding=(1, 1))\n",
      "  (bn2): BatchNorm2d(128, eps=1e-05, momentum=0.1, affine=True, track_running_stats=True)\n",
      "  (linear1): Linear(in_features=6272, out_features=128, bias=True)\n",
      "  (bn3): BatchNorm1d(128, eps=1e-05, momentum=0.1, affine=True, track_running_stats=True)\n",
      "  (linear2): Linear(in_features=128, out_features=1, bias=True)\n",
      ")\n",
      "There are 1068289 (1.07 million) parameters in this neural network\n",
      "torch.Size([10, 784])\n",
      "torch.Size([10, 28])\n",
      "torch.Size([10, 1, 28, 28]) torch.Size([10, 1])\n",
      "torch.Size([10, 1, 28, 28]) torch.Size([10, 1]) torch.Size([10, 1])\n"
     ]
    }
   ],
   "source": [
    "# Define the generator and discriminator networks\n",
    "class generator(nn.Module):\n",
    "    def __init__(self):\n",
    "        super(generator, self).__init__()\n",
    "        # COMPLETE HERE\n",
    "        self.linear1 = nn.Linear(dz, d, bias=True) \n",
    "        self.bn1 = nn.BatchNorm1d(d)\n",
    "        self.linear2 = nn.Linear(d, d*(n//4)**2, bias=True)\n",
    "        self.bn2 = nn.BatchNorm1d(d*(n//4)*(n//4))\n",
    "        self.tconv1 = nn.ConvTranspose2d(d, d, kernel_size=4, padding=1, stride=2) #  d x 7 x 7 --> d x 14 x 14 \n",
    "        self.bn3 = nn.BatchNorm2d(d)\n",
    "        self.tconv2 = nn.ConvTranspose2d(d,  1, kernel_size=4, padding=1, stride=2) #  d x 14 x 14 --> d x 28 x 28\n",
    "    def forward(self, z): \n",
    "        # COMPLETE HERE\n",
    "        h = self.linear1(z) # [b, d]\n",
    "        h = self.bn1(h)\n",
    "        h = torch.relu(h)\n",
    "        h = self.linear2(h) # [b, d* (n//4)**2]\n",
    "        h = self.bn2(h)\n",
    "        h = torch.relu(h)\n",
    "        h = h.view(-1, d, n//4, n//4) # [b, d, n//4, n//4]\n",
    "        h = self.tconv1(h) # [b, d, n//2, n//2]\n",
    "        h = self.bn3(h)\n",
    "        h = torch.relu(h)\n",
    "        h = self.tconv2(h) # [b, 1, n, n], nb colors = 1\n",
    "        #g_z = torch.tanh(h) # in general [-1,1]\n",
    "        g_z = torch.sigmoid(h) # for mnist [0,1]\n",
    "        return g_z\n",
    "\n",
    "class discriminator(nn.Module):\n",
    "    def __init__(self):\n",
    "        super(discriminator, self).__init__()\n",
    "        # COMPLETE HERE\n",
    "        self.conv1 = nn.Conv2d(1, d, kernel_size=4, padding=1, stride=2) #  1 x 28 x 28 --> d x 14 x 14\n",
    "        self.bn1 = nn.BatchNorm2d(d)\n",
    "        self.conv2 = nn.Conv2d(d, d, kernel_size=4, padding=1, stride=2) #  d x 14 x 14 --> d x 7 x 7\n",
    "        self.bn2 = nn.BatchNorm2d(d)\n",
    "        self.linear1 = nn.Linear(d*(n//4)**2, d, bias=True)\n",
    "        self.bn3 = nn.BatchNorm1d(d)\n",
    "        self.linear2 = nn.Linear(d, 1, bias=True)\n",
    "    def forward(self, h): \n",
    "        # COMPLETE HERE\n",
    "        h = self.conv1(h) # [b, d, n//2, n//2]  \n",
    "        h = self.bn1(h)\n",
    "        h = torch.relu(h)\n",
    "        h = self.conv2(h) # [b, d, n//4, n//4] \n",
    "        h = self.bn2(h)\n",
    "        h = torch.relu(h)\n",
    "        h = h.view(-1, d* (n//4)**2) # [b, d* (n//4)**2]\n",
    "        h = self.linear1(h) # [b, d]\n",
    "        h = self.bn3(h)\n",
    "        h = torch.relu(h)\n",
    "        h = self.linear2(h) # [b, 1]\n",
    "        d_h = torch.sigmoid(h)\n",
    "        return d_h\n",
    "\n",
    "# Instantiate the network\n",
    "net_g = generator()\n",
    "net_g = net_g.to(device)\n",
    "print(net_g)\n",
    "utils.display_num_param(net_g) \n",
    "net_d = discriminator()\n",
    "net_d = net_d.to(device)\n",
    "print(net_d)\n",
    "utils.display_num_param(net_d) \n",
    "\n",
    "# Test the forward pass, backward pass and gradient update with a single batch\n",
    "init_lr = 0.001\n",
    "optimizer_g = torch.optim.Adam(net_g.parameters(), lr=init_lr)\n",
    "optimizer_d = torch.optim.Adam(net_d.parameters(), lr=init_lr)\n",
    "\n",
    "b = 10\n",
    "idx = torch.LongTensor(b).random_(0,60000)\n",
    "x_real = train_data[idx,:,:].view(b,-1).to(device) # [b, n**2]\n",
    "print(x_real.size())\n",
    "\n",
    "z = torch.rand(b, dz).to(device) # [b, dz]\n",
    "print(z.size())\n",
    "\n",
    "p_one = torch.ones(b, 1).to(device)\n",
    "p_zero = torch.zeros(b, 1).to(device)\n",
    "\n",
    "# update g\n",
    "optimizer_g.zero_grad()\n",
    "x_fake = net_g(z) # [b, 1, n, n]\n",
    "p_fake = net_d(x_fake) # [b, 1]\n",
    "print(x_fake.size(), p_fake.size())\n",
    "loss_fake = nn.BCELoss()(p_fake, p_one)\n",
    "loss = loss_fake\n",
    "loss.backward()\n",
    "optimizer_g.step()\n",
    "\n",
    "# update d\n",
    "optimizer_d.zero_grad()\n",
    "x_fake = net_g(z) # [b, 1, n, n]\n",
    "p_fake = net_d(x_fake) # [b, 1]\n",
    "p_real = net_d(x_real.view(-1,n,n).unsqueeze(1)) # [b, 1]\n",
    "print(x_fake.size(), p_fake.size(), p_real.size())\n",
    "loss_real = nn.BCELoss()(p_real, p_one)\n",
    "loss_fake = nn.BCELoss()(p_fake, p_zero)\n",
    "loss = loss_real + loss_fake\n",
    "loss.backward()\n",
    "optimizer_d.step()\n"
   ]
  },
  {
   "cell_type": "code",
   "execution_count": 8,
   "metadata": {
    "colab": {
     "base_uri": "https://localhost:8080/",
     "height": 1000
    },
    "executionInfo": {
     "elapsed": 158500,
     "status": "ok",
     "timestamp": 1649159104054,
     "user": {
      "displayName": "Xavier Bresson",
      "userId": "14103767471123103792"
     },
     "user_tz": -480
    },
    "id": "tvuWro5BYdK4",
    "outputId": "558cf79f-78ae-41bd-9497-81ac9c0c2081",
    "scrolled": false
   },
   "outputs": [
    {
     "name": "stdout",
     "output_type": "stream",
     "text": [
      "generator(\n",
      "  (linear1): Linear(in_features=28, out_features=128, bias=True)\n",
      "  (bn1): BatchNorm1d(128, eps=1e-05, momentum=0.1, affine=True, track_running_stats=True)\n",
      "  (linear2): Linear(in_features=128, out_features=6272, bias=True)\n",
      "  (bn2): BatchNorm1d(6272, eps=1e-05, momentum=0.1, affine=True, track_running_stats=True)\n",
      "  (tconv1): ConvTranspose2d(128, 128, kernel_size=(4, 4), stride=(2, 2), padding=(1, 1))\n",
      "  (bn3): BatchNorm2d(128, eps=1e-05, momentum=0.1, affine=True, track_running_stats=True)\n",
      "  (tconv2): ConvTranspose2d(128, 1, kernel_size=(4, 4), stride=(2, 2), padding=(1, 1))\n",
      ")\n",
      "There are 1090177 (1.09 million) parameters in this neural network\n",
      "discriminator(\n",
      "  (conv1): Conv2d(1, 128, kernel_size=(4, 4), stride=(2, 2), padding=(1, 1))\n",
      "  (bn1): BatchNorm2d(128, eps=1e-05, momentum=0.1, affine=True, track_running_stats=True)\n",
      "  (conv2): Conv2d(128, 128, kernel_size=(4, 4), stride=(2, 2), padding=(1, 1))\n",
      "  (bn2): BatchNorm2d(128, eps=1e-05, momentum=0.1, affine=True, track_running_stats=True)\n",
      "  (linear1): Linear(in_features=6272, out_features=128, bias=True)\n",
      "  (bn3): BatchNorm1d(128, eps=1e-05, momentum=0.1, affine=True, track_running_stats=True)\n",
      "  (linear2): Linear(in_features=128, out_features=1, bias=True)\n",
      ")\n",
      "There are 1068289 (1.07 million) parameters in this neural network\n",
      "epoch= 0 \t time= 0.05241491794586182 min \t lr= 0.0002 \t loss_d= 1.1598137095570564 \t loss_g= 0.919433953166008\n"
     ]
    },
    {
     "data": {
      "image/png": "[encoded data removed]",
      "text/plain": [
       "<Figure size 432x288 with 1 Axes>"
      ]
     },
     "metadata": {
      "needs_background": "light"
     },
     "output_type": "display_data"
    },
    {
     "name": "stdout",
     "output_type": "stream",
     "text": [
      "epoch= 1 \t time= 0.1077828327814738 min \t lr= 0.0002 \t loss_d= 0.8972067648172378 \t loss_g= 1.1767645925283432\n",
      "epoch= 2 \t time= 0.15982104937235514 min \t lr= 0.0002 \t loss_d= 0.9125587025284767 \t loss_g= 1.1991437661647797\n",
      "epoch= 3 \t time= 0.21194043556849163 min \t lr= 0.0002 \t loss_d= 0.8575250715017319 \t loss_g= 1.2885684478282928\n",
      "epoch= 4 \t time= 0.2639947017033895 min \t lr= 0.0002 \t loss_d= 0.7719116526842117 \t loss_g= 1.4162953078746796\n",
      "epoch= 5 \t time= 0.32222868998845416 min \t lr= 0.0002 \t loss_d= 0.7152805444598198 \t loss_g= 1.5185093009471893\n"
     ]
    },
    {
     "data": {
      "image/png": "[encoded data removed]",
      "text/plain": [
       "<Figure size 432x288 with 1 Axes>"
      ]
     },
     "metadata": {
      "needs_background": "light"
     },
     "output_type": "display_data"
    },
    {
     "name": "stdout",
     "output_type": "stream",
     "text": [
      "epoch= 6 \t time= 0.37605686982472736 min \t lr= 0.0002 \t loss_d= 0.6605070811510086 \t loss_g= 1.6130530577898026\n",
      "epoch= 7 \t time= 0.4282191356023153 min \t lr= 0.0002 \t loss_d= 0.6607261957228183 \t loss_g= 1.6731194388866424\n",
      "epoch= 8 \t time= 0.48025284210840863 min \t lr= 0.0002 \t loss_d= 0.6466920985281468 \t loss_g= 1.7025327652692794\n",
      "epoch= 9 \t time= 0.5323261539141337 min \t lr= 0.0002 \t loss_d= 0.6550241462886334 \t loss_g= 1.7398429971933365\n",
      "epoch= 10 \t time= 0.5842574954032898 min \t lr= 0.0002 \t loss_d= 0.6447554282844067 \t loss_g= 1.7535778260231019\n"
     ]
    },
    {
     "data": {
      "image/png": "[encoded data removed]",
      "text/plain": [
       "<Figure size 432x288 with 1 Axes>"
      ]
     },
     "metadata": {
      "needs_background": "light"
     },
     "output_type": "display_data"
    },
    {
     "name": "stdout",
     "output_type": "stream",
     "text": [
      "epoch= 11 \t time= 0.6381823937098186 min \t lr= 0.0002 \t loss_d= 0.6510230131447315 \t loss_g= 1.808929603099823\n",
      "epoch= 12 \t time= 0.6902155598004659 min \t lr= 0.0002 \t loss_d= 0.6329134391248226 \t loss_g= 1.8279124742746353\n",
      "epoch= 13 \t time= 0.7422122319539388 min \t lr= 0.0002 \t loss_d= 0.6399311423301697 \t loss_g= 1.8458719861507416\n",
      "epoch= 14 \t time= 0.7942561070124309 min \t lr= 0.0002 \t loss_d= 0.6261675371229649 \t loss_g= 1.8718379467725754\n",
      "epoch= 15 \t time= 0.8463772177696228 min \t lr= 0.0002 \t loss_d= 0.6163508784770966 \t loss_g= 1.874296338558197\n"
     ]
    },
    {
     "data": {
      "image/png": "[encoded data removed]",
      "text/plain": [
       "<Figure size 432x288 with 1 Axes>"
      ]
     },
     "metadata": {
      "needs_background": "light"
     },
     "output_type": "display_data"
    },
    {
     "name": "stdout",
     "output_type": "stream",
     "text": [
      "epoch= 16 \t time= 0.9003219723701477 min \t lr= 0.0002 \t loss_d= 0.6015260328352451 \t loss_g= 1.9446789753437042\n",
      "epoch= 17 \t time= 0.9525346000989278 min \t lr= 0.0002 \t loss_d= 0.598215711414814 \t loss_g= 1.9710522907972337\n",
      "epoch= 18 \t time= 1.0047351360321044 min \t lr= 0.0002 \t loss_d= 0.6098818853497505 \t loss_g= 1.9532477408647537\n",
      "epoch= 19 \t time= 1.0569841345151265 min \t lr= 0.0002 \t loss_d= 0.5925193896889687 \t loss_g= 1.9852549475431442\n",
      "epoch= 20 \t time= 1.1092123111089072 min \t lr= 0.0002 \t loss_d= 0.6253887256979942 \t loss_g= 1.9936030077934266\n"
     ]
    },
    {
     "data": {
      "image/png": "[encoded data removed]",
      "text/plain": [
       "<Figure size 432x288 with 1 Axes>"
      ]
     },
     "metadata": {
      "needs_background": "light"
     },
     "output_type": "display_data"
    },
    {
     "name": "stdout",
     "output_type": "stream",
     "text": [
      "epoch= 21 \t time= 1.1631567200024924 min \t lr= 0.0002 \t loss_d= 0.5776963087916375 \t loss_g= 2.020030882358551\n",
      "epoch= 22 \t time= 1.2154012759526571 min \t lr= 0.0002 \t loss_d= 0.5780013474822044 \t loss_g= 2.0534050410985945\n",
      "epoch= 23 \t time= 1.2675071318944295 min \t lr= 0.0002 \t loss_d= 0.5794601519405842 \t loss_g= 2.0629879140853884\n",
      "epoch= 24 \t time= 1.3197510838508606 min \t lr= 0.0002 \t loss_d= 0.5698086795210838 \t loss_g= 2.078608469963074\n",
      "epoch= 25 \t time= 1.371882426738739 min \t lr= 0.0002 \t loss_d= 0.5907396952807903 \t loss_g= 2.1035217225551603\n"
     ]
    },
    {
     "data": {
      "image/png": "[encoded data removed]",
      "text/plain": [
       "<Figure size 432x288 with 1 Axes>"
      ]
     },
     "metadata": {
      "needs_background": "light"
     },
     "output_type": "display_data"
    },
    {
     "name": "stdout",
     "output_type": "stream",
     "text": [
      "epoch= 26 \t time= 1.4257623076438903 min \t lr= 0.0002 \t loss_d= 0.5631198535859585 \t loss_g= 2.0844703018665314\n",
      "epoch= 27 \t time= 1.4779928565025329 min \t lr= 0.0002 \t loss_d= 0.5626035031676292 \t loss_g= 2.1375408041477204\n",
      "epoch= 28 \t time= 1.5300642689069113 min \t lr= 0.0002 \t loss_d= 0.5257516445219517 \t loss_g= 2.1997578746080397\n",
      "epoch= 29 \t time= 1.5821243882179261 min \t lr= 0.0002 \t loss_d= 0.549364486783743 \t loss_g= 2.179373281598091\n",
      "epoch= 30 \t time= 1.6341771046320597 min \t lr= 0.0002 \t loss_d= 0.5431401713192463 \t loss_g= 2.2146336740255355\n"
     ]
    },
    {
     "data": {
      "image/png": "[encoded data removed]",
      "text/plain": [
       "<Figure size 432x288 with 1 Axes>"
      ]
     },
     "metadata": {
      "needs_background": "light"
     },
     "output_type": "display_data"
    },
    {
     "name": "stdout",
     "output_type": "stream",
     "text": [
      "epoch= 31 \t time= 1.6881714900334677 min \t lr= 0.0002 \t loss_d= 0.5382858350872993 \t loss_g= 2.21373419880867\n",
      "epoch= 32 \t time= 1.7403740564982095 min \t lr= 0.0002 \t loss_d= 0.5375709393620491 \t loss_g= 2.2639694952964784\n",
      "epoch= 33 \t time= 1.7923790733019511 min \t lr= 0.0002 \t loss_d= 0.5298744238913059 \t loss_g= 2.2500028437376023\n",
      "epoch= 34 \t time= 1.844487988948822 min \t lr= 0.0002 \t loss_d= 0.5282753090560436 \t loss_g= 2.2833366060256957\n",
      "epoch= 35 \t time= 1.8965334177017212 min \t lr= 0.0002 \t loss_d= 0.5149408113956452 \t loss_g= 2.305514519810677\n"
     ]
    },
    {
     "data": {
      "image/png": "[encoded data removed]",
      "text/plain": [
       "<Figure size 432x288 with 1 Axes>"
      ]
     },
     "metadata": {
      "needs_background": "light"
     },
     "output_type": "display_data"
    },
    {
     "name": "stdout",
     "output_type": "stream",
     "text": [
      "epoch= 36 \t time= 1.9501954873402914 min \t lr= 0.0002 \t loss_d= 0.4975234653055668 \t loss_g= 2.349395627975464\n",
      "epoch= 37 \t time= 2.0021927396456403 min \t lr= 0.0002 \t loss_d= 0.5239403305947781 \t loss_g= 2.360627703666687\n",
      "epoch= 38 \t time= 2.054323124885559 min \t lr= 0.0002 \t loss_d= 0.48421584770083426 \t loss_g= 2.37273538172245\n",
      "epoch= 39 \t time= 2.1063846349716187 min \t lr= 0.0002 \t loss_d= 0.5069941778481006 \t loss_g= 2.4203571039438248\n",
      "epoch= 40 \t time= 2.1585026303927104 min \t lr= 0.0002 \t loss_d= 0.5056423646211624 \t loss_g= 2.399524033665657\n"
     ]
    },
    {
     "data": {
      "image/png": "[encoded data removed]",
      "text/plain": [
       "<Figure size 432x288 with 1 Axes>"
      ]
     },
     "metadata": {
      "needs_background": "light"
     },
     "output_type": "display_data"
    },
    {
     "name": "stdout",
     "output_type": "stream",
     "text": [
      "epoch= 41 \t time= 2.2124030868212383 min \t lr= 0.0002 \t loss_d= 0.48258731901645663 \t loss_g= 2.4555173432826995\n",
      "epoch= 42 \t time= 2.2644806543986005 min \t lr= 0.0002 \t loss_d= 0.4739704978466034 \t loss_g= 2.4544366139173506\n",
      "epoch= 43 \t time= 2.3165982445081075 min \t lr= 0.0002 \t loss_d= 0.518805000782013 \t loss_g= 2.4736405450105665\n",
      "epoch= 44 \t time= 2.368631072839101 min \t lr= 0.0002 \t loss_d= 0.4841741308569908 \t loss_g= 2.4579359114170076\n",
      "epoch= 45 \t time= 2.4207484404246014 min \t lr= 0.0002 \t loss_d= 0.46360395424067974 \t loss_g= 2.5176820260286332\n"
     ]
    },
    {
     "data": {
      "image/png": "[encoded data removed]",
      "text/plain": [
       "<Figure size 432x288 with 1 Axes>"
      ]
     },
     "metadata": {
      "needs_background": "light"
     },
     "output_type": "display_data"
    },
    {
     "name": "stdout",
     "output_type": "stream",
     "text": [
      "epoch= 46 \t time= 2.4746485630671184 min \t lr= 0.0002 \t loss_d= 0.4463315173983574 \t loss_g= 2.538931606411934\n",
      "epoch= 47 \t time= 2.526717034975688 min \t lr= 0.0002 \t loss_d= 0.504648145288229 \t loss_g= 2.529345006942749\n",
      "epoch= 48 \t time= 2.5787526528040567 min \t lr= 0.0002 \t loss_d= 0.4812618370354176 \t loss_g= 2.5271785992383955\n",
      "epoch= 49 \t time= 2.6308477759361266 min \t lr= 0.0002 \t loss_d= 0.46167097598314283 \t loss_g= 2.543616372346878\n"
     ]
    }
   ],
   "source": [
    "# Training loop\n",
    "net_g = generator()\n",
    "net_g = net_g.to(device)\n",
    "print(net_g)\n",
    "utils.display_num_param(net_g) \n",
    "net_d = discriminator()\n",
    "net_d = net_d.to(device)\n",
    "print(net_d)\n",
    "utils.display_num_param(net_d) \n",
    "\n",
    "# Optimizer\n",
    "init_lr = 0.0002\n",
    "optimizer_g = torch.optim.Adam(net_g.parameters(), lr=init_lr, betas=(0.5, 0.999))\n",
    "optimizer_d = torch.optim.Adam(net_d.parameters(), lr=init_lr, betas=(0.5, 0.999))\n",
    "\n",
    "nb_batch = 200 # GPU # Nb of mini-batches per epoch\n",
    "b = 64  # Batch size\n",
    "\n",
    "p_one = torch.ones(b, 1).to(device)\n",
    "p_zero = torch.zeros(b, 1).to(device)\n",
    "\n",
    "start=time.time()\n",
    "for epoch in range(50):\n",
    "\n",
    "    running_loss_d = 0.0\n",
    "    running_loss_g = 0.0\n",
    "    num_batches = 0\n",
    "    \n",
    "    for _ in range(nb_batch):\n",
    "        \n",
    "        # FORWARD AND BACKWARD PASS\n",
    "        idx = torch.LongTensor(b).random_(0,60000)\n",
    "        x_real = train_data[idx,:,:].view(b,-1).to(device) # [b, n**2]\n",
    "        z = torch.rand(b, dz).to(device) # Uniform distribution # [b, dz]\n",
    "        \n",
    "        # update d\n",
    "        optimizer_d.zero_grad()\n",
    "        x_fake = net_g(z) # [b, 1, n, n]\n",
    "        p_fake = net_d(x_fake) # [b, 1]\n",
    "        p_real = net_d(x_real.view(-1,n,n).unsqueeze(1)) # [b, 1]\n",
    "        loss_real = nn.BCELoss()(p_real, p_one)\n",
    "        loss_fake = nn.BCELoss()(p_fake, p_zero)\n",
    "        loss = loss_real + loss_fake\n",
    "        loss_d = loss.detach().item()\n",
    "        loss.backward()\n",
    "        optimizer_d.step()\n",
    "        \n",
    "        # update g\n",
    "        optimizer_g.zero_grad()\n",
    "        x_fake = net_g(z) # [b, 1, n, n]\n",
    "        p_fake = net_d(x_fake) # [b, 1]\n",
    "        loss_fake = nn.BCELoss()(p_fake, p_one)\n",
    "        loss = loss_fake\n",
    "        loss_g = loss.detach().item()\n",
    "        loss.backward()\n",
    "        optimizer_g.step()\n",
    "\n",
    "        # COMPUTE STATS\n",
    "        running_loss_d += loss_d\n",
    "        running_loss_g += loss_g\n",
    "        num_batches += 1        \n",
    "    \n",
    "    # AVERAGE STATS THEN DISPLAY\n",
    "    total_loss_d = running_loss_d/ num_batches\n",
    "    total_loss_g = running_loss_g/ num_batches\n",
    "    elapsed = (time.time()-start)/60\n",
    "    print('epoch=',epoch, '\\t time=', elapsed,'min', '\\t lr=', init_lr  ,'\\t loss_d=', total_loss_d ,'\\t loss_g=', total_loss_g )\n",
    "\n",
    "    if not epoch%5:\n",
    "        plt.imshow(x_fake.view(b,n,n).detach().cpu()[0,:,:], cmap='gray'); plt.show() \n",
    "    "
   ]
  },
  {
   "cell_type": "code",
   "execution_count": 9,
   "metadata": {
    "colab": {
     "base_uri": "https://localhost:8080/",
     "height": 1000
    },
    "executionInfo": {
     "elapsed": 808,
     "status": "ok",
     "timestamp": 1649159104857,
     "user": {
      "displayName": "Xavier Bresson",
      "userId": "14103767471123103792"
     },
     "user_tz": -480
    },
    "id": "pT0g6UC0YdK5",
    "outputId": "dad0e676-1cd4-4c6a-cf23-a67fbc4e46e2",
    "scrolled": false
   },
   "outputs": [
    {
     "data": {
      "image/png": "[encoded data removed]",
      "text/plain": [
       "<Figure size 432x288 with 1 Axes>"
      ]
     },
     "metadata": {
      "needs_background": "light"
     },
     "output_type": "display_data"
    },
    {
     "data": {
      "image/png": "[encoded data removed]",
      "text/plain": [
       "<Figure size 432x288 with 1 Axes>"
      ]
     },
     "metadata": {
      "needs_background": "light"
     },
     "output_type": "display_data"
    },
    {
     "data": {
      "image/png": "[encoded data removed]",
      "text/plain": [
       "<Figure size 432x288 with 1 Axes>"
      ]
     },
     "metadata": {
      "needs_background": "light"
     },
     "output_type": "display_data"
    },
    {
     "data": {
      "image/png": "[encoded data removed]",
      "text/plain": [
       "<Figure size 432x288 with 1 Axes>"
      ]
     },
     "metadata": {
      "needs_background": "light"
     },
     "output_type": "display_data"
    },
    {
     "data": {
      "image/png": "[encoded data removed]",
      "text/plain": [
       "<Figure size 432x288 with 1 Axes>"
      ]
     },
     "metadata": {
      "needs_background": "light"
     },
     "output_type": "display_data"
    },
    {
     "data": {
      "image/png": "[encoded data removed]",
      "text/plain": [
       "<Figure size 432x288 with 1 Axes>"
      ]
     },
     "metadata": {
      "needs_background": "light"
     },
     "output_type": "display_data"
    },
    {
     "data": {
      "image/png": "[encoded data removed]",
      "text/plain": [
       "<Figure size 432x288 with 1 Axes>"
      ]
     },
     "metadata": {
      "needs_background": "light"
     },
     "output_type": "display_data"
    },
    {
     "data": {
      "image/png": "[encoded data removed]",
      "text/plain": [
       "<Figure size 432x288 with 1 Axes>"
      ]
     },
     "metadata": {
      "needs_background": "light"
     },
     "output_type": "display_data"
    },
    {
     "data": {
      "image/png": "[encoded data removed]",
      "text/plain": [
       "<Figure size 432x288 with 1 Axes>"
      ]
     },
     "metadata": {
      "needs_background": "light"
     },
     "output_type": "display_data"
    },
    {
     "data": {
      "image/png": "[encoded data removed]",
      "text/plain": [
       "<Figure size 432x288 with 1 Axes>"
      ]
     },
     "metadata": {
      "needs_background": "light"
     },
     "output_type": "display_data"
    }
   ],
   "source": [
    "# Generate a few images\n",
    "b = 10\n",
    "z = torch.rand(b, dz) # Uniform distribution \n",
    "z = z.to(device)\n",
    "x_new = net_g(z).view(b,n,n).detach().cpu()\n",
    "for k in range(b):\n",
    "    plt.imshow(x_new[k,:,:], cmap='gray'); plt.show() \n",
    "  "
   ]
  },
  {
   "cell_type": "code",
   "execution_count": 9,
   "metadata": {
    "executionInfo": {
     "elapsed": 5,
     "status": "ok",
     "timestamp": 1649159104857,
     "user": {
      "displayName": "Xavier Bresson",
      "userId": "14103767471123103792"
     },
     "user_tz": -480
    },
    "id": "0Hw31504YdK6"
   },
   "outputs": [],
   "source": []
  }
 ],
 "metadata": {
  "accelerator": "GPU",
  "colab": {
   "collapsed_sections": [],
   "name": "GAN_CNN_solution.ipynb",
   "provenance": []
  },
  "kernelspec": {
   "display_name": "Python 3 (ipykernel)",
   "language": "python",
   "name": "python3"
  },
  "language_info": {
   "codemirror_mode": {
    "name": "ipython",
    "version": 3
   },
   "file_extension": ".py",
   "mimetype": "text/x-python",
   "name": "python",
   "nbconvert_exporter": "python",
   "pygments_lexer": "ipython3",
   "version": "3.7.10"
  }
 },
 "nbformat": 4,
 "nbformat_minor": 1
}
