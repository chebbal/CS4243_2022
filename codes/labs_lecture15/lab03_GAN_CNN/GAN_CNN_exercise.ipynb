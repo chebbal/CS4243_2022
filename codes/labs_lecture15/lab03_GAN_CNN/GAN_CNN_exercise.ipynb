{
 "cells": [
  {
   "cell_type": "markdown",
   "metadata": {
    "id": "D0jesoktYdKv"
   },
   "source": [
    "# Lab 03 : GAN with CNN - exercise\n",
    "\n",
    "The goal is to implement a GAN architecture with CNNs to generate new MNIST images.</br>"
   ]
  },
  {
   "cell_type": "code",
   "execution_count": 2,
   "metadata": {
    "colab": {
     "base_uri": "https://localhost:8080/"
    },
    "executionInfo": {
     "elapsed": 3034,
     "status": "ok",
     "timestamp": 1649122207281,
     "user": {
      "displayName": "Xavier Bresson",
      "userId": "14103767471123103792"
     },
     "user_tz": -480
    },
    "id": "yQkNjE9tYdKy",
    "outputId": "45badf88-f930-4e78-f9f7-f8be023b3c68"
   },
   "outputs": [
    {
     "name": "stdout",
     "output_type": "stream",
     "text": [
      "Drive already mounted at /content/gdrive; to attempt to forcibly remount, call drive.mount(\"/content/gdrive\", force_remount=True).\n",
      "/content/gdrive/My Drive/GAN/new_codes/labs_lecture15/\n",
      "/content/gdrive/My Drive/GAN/new_codes/labs_lecture15\n"
     ]
    }
   ],
   "source": [
    "# For Google Colaboratory\n",
    "import sys, os\n",
    "if 'google.colab' in sys.modules:\n",
    "    # mount google drive\n",
    "    from google.colab import drive\n",
    "    drive.mount('/content/gdrive')\n",
    "    path_to_file = '/content/gdrive/My Drive/CS4243_codes/codes/labs_lecture15/lab03_GAN_CNN'\n",
    "    print(path_to_file)\n",
    "    # move to Google Drive directory\n",
    "    os.chdir(path_to_file)\n",
    "    !pwd"
   ]
  },
  {
   "cell_type": "code",
   "execution_count": 3,
   "metadata": {
    "executionInfo": {
     "elapsed": 6094,
     "status": "ok",
     "timestamp": 1649122213372,
     "user": {
      "displayName": "Xavier Bresson",
      "userId": "14103767471123103792"
     },
     "user_tz": -480
    },
    "id": "ERQgahj9YdKz"
   },
   "outputs": [],
   "source": [
    "import torch\n",
    "import torch.nn as nn\n",
    "import torch.optim as optim\n",
    "import utils\n",
    "import time"
   ]
  },
  {
   "cell_type": "markdown",
   "metadata": {
    "id": "Vj1QT-TBVt6c"
   },
   "source": [
    "### GPU is required to train GAN"
   ]
  },
  {
   "cell_type": "code",
   "execution_count": 4,
   "metadata": {
    "colab": {
     "base_uri": "https://localhost:8080/"
    },
    "executionInfo": {
     "elapsed": 5,
     "status": "ok",
     "timestamp": 1649122213372,
     "user": {
      "displayName": "Xavier Bresson",
      "userId": "14103767471123103792"
     },
     "user_tz": -480
    },
    "id": "ZbjnZcmbYdKz",
    "outputId": "297a5385-6367-4d6d-b928-75a029ed4020"
   },
   "outputs": [
    {
     "name": "stdout",
     "output_type": "stream",
     "text": [
      "cuda\n"
     ]
    }
   ],
   "source": [
    "device= torch.device(\"cuda\")\n",
    "#device= torch.device(\"cpu\")\n",
    "print(device)"
   ]
  },
  {
   "cell_type": "code",
   "execution_count": 5,
   "metadata": {
    "executionInfo": {
     "elapsed": 4,
     "status": "ok",
     "timestamp": 1649122213373,
     "user": {
      "displayName": "Xavier Bresson",
      "userId": "14103767471123103792"
     },
     "user_tz": -480
    },
    "id": "x11IwMXRYdK0"
   },
   "outputs": [],
   "source": [
    "# Libraries\n",
    "import matplotlib.pyplot as plt\n",
    "import logging\n",
    "logging.getLogger().setLevel(logging.CRITICAL) # remove warnings"
   ]
  },
  {
   "cell_type": "markdown",
   "metadata": {
    "id": "2ju92i3CYdK1"
   },
   "source": [
    "### MNIST dataset "
   ]
  },
  {
   "cell_type": "code",
   "execution_count": 6,
   "metadata": {
    "colab": {
     "base_uri": "https://localhost:8080/"
    },
    "executionInfo": {
     "elapsed": 3474,
     "status": "ok",
     "timestamp": 1649122216844,
     "user": {
      "displayName": "Xavier Bresson",
      "userId": "14103767471123103792"
     },
     "user_tz": -480
    },
    "id": "750I1YxrYdK1",
    "outputId": "bc82d4a0-ed9b-4441-b58b-acd5784757da"
   },
   "outputs": [
    {
     "name": "stdout",
     "output_type": "stream",
     "text": [
      "torch.Size([60000, 28, 28])\n"
     ]
    }
   ],
   "source": [
    "from utils import check_mnist_dataset_exists\n",
    "data_path=check_mnist_dataset_exists()\n",
    "\n",
    "train_data=torch.load(data_path+'mnist/train_data.pt')\n",
    "train_label=torch.load(data_path+'mnist/train_label.pt')\n",
    "print(train_data.size())"
   ]
  },
  {
   "cell_type": "markdown",
   "metadata": {
    "id": "4e4Ed6Hdpw2_"
   },
   "source": [
    "### Network architecture"
   ]
  },
  {
   "cell_type": "code",
   "execution_count": 7,
   "metadata": {
    "executionInfo": {
     "elapsed": 4,
     "status": "ok",
     "timestamp": 1649122216845,
     "user": {
      "displayName": "Xavier Bresson",
      "userId": "14103767471123103792"
     },
     "user_tz": -480
    },
    "id": "I5MUdYLwpw3A"
   },
   "outputs": [],
   "source": [
    "# Global constants\n",
    "# n : nb of pixels along each spatial dimension\n",
    "# dz : latent dimension\n",
    "# d : hidden dimension\n",
    "# b : batch size\n",
    "n = train_data.size(1)\n",
    "dz = n\n",
    "d = 128\n",
    "b = 64\n"
   ]
  },
  {
   "cell_type": "code",
   "execution_count": 8,
   "metadata": {
    "colab": {
     "base_uri": "https://localhost:8080/"
    },
    "executionInfo": {
     "elapsed": 8770,
     "status": "ok",
     "timestamp": 1649122225612,
     "user": {
      "displayName": "Xavier Bresson",
      "userId": "14103767471123103792"
     },
     "user_tz": -480
    },
    "id": "3nV6N-9PYdK2",
    "outputId": "65447311-0fce-4b7d-be0b-7f1a5439a5d5"
   },
   "outputs": [
    {
     "name": "stdout",
     "output_type": "stream",
     "text": [
      "generator(\n",
      "  (linear1): Linear(in_features=28, out_features=128, bias=True)\n",
      "  (bn1): BatchNorm1d(128, eps=1e-05, momentum=0.1, affine=True, track_running_stats=True)\n",
      "  (linear2): Linear(in_features=128, out_features=6272, bias=True)\n",
      "  (bn2): BatchNorm1d(6272, eps=1e-05, momentum=0.1, affine=True, track_running_stats=True)\n",
      "  (tconv1): ConvTranspose2d(128, 128, kernel_size=(4, 4), stride=(2, 2), padding=(1, 1))\n",
      "  (bn3): BatchNorm2d(128, eps=1e-05, momentum=0.1, affine=True, track_running_stats=True)\n",
      "  (tconv2): ConvTranspose2d(128, 1, kernel_size=(4, 4), stride=(2, 2), padding=(1, 1))\n",
      ")\n",
      "There are 1090177 (1.09 million) parameters in this neural network\n",
      "discriminator(\n",
      "  (conv1): Conv2d(1, 128, kernel_size=(4, 4), stride=(2, 2), padding=(1, 1))\n",
      "  (bn1): BatchNorm2d(128, eps=1e-05, momentum=0.1, affine=True, track_running_stats=True)\n",
      "  (conv2): Conv2d(128, 128, kernel_size=(4, 4), stride=(2, 2), padding=(1, 1))\n",
      "  (bn2): BatchNorm2d(128, eps=1e-05, momentum=0.1, affine=True, track_running_stats=True)\n",
      "  (linear1): Linear(in_features=6272, out_features=128, bias=True)\n",
      "  (bn3): BatchNorm1d(128, eps=1e-05, momentum=0.1, affine=True, track_running_stats=True)\n",
      "  (linear2): Linear(in_features=128, out_features=1, bias=True)\n",
      ")\n",
      "There are 1068289 (1.07 million) parameters in this neural network\n",
      "torch.Size([10, 784])\n",
      "torch.Size([10, 1, 28, 28])\n",
      "torch.Size([10, 1])\n",
      "torch.Size([10, 1])\n",
      "torch.Size([10, 1, 28, 28])\n",
      "torch.Size([10, 1])\n"
     ]
    }
   ],
   "source": [
    "# Define the generator and discriminator networks\n",
    "class generator(nn.Module):\n",
    "    def __init__(self):\n",
    "        super(generator, self).__init__()\n",
    "        # COMPLETE HERE\n",
    "        self.linear1 = \n",
    "        self.bn1 = \n",
    "        self.linear2 = \n",
    "        self.bn2 = \n",
    "        self.tconv1 = \n",
    "        self.bn3 = \n",
    "        self.tconv2 = \n",
    "    def forward(self, z): \n",
    "        # COMPLETE HERE\n",
    "        g_z = \n",
    "        return g_z\n",
    "\n",
    "class discriminator(nn.Module):\n",
    "    def __init__(self):\n",
    "        super(discriminator, self).__init__()\n",
    "        # COMPLETE HERE\n",
    "        self.conv1 = \n",
    "        self.bn1 = \n",
    "        self.conv2 = \n",
    "        self.bn2 = \n",
    "        self.linear1 = \n",
    "        self.bn3 = \n",
    "        self.linear2 = \n",
    "    def forward(self, h): \n",
    "        # COMPLETE HERE\n",
    "        d_h = \n",
    "        return d_h\n",
    "\n",
    "# Instantiate the network\n",
    "net_g = generator()\n",
    "net_g = net_g.to(device)\n",
    "print(net_g)\n",
    "utils.display_num_param(net_g) \n",
    "net_d = discriminator()\n",
    "net_d = net_d.to(device)\n",
    "print(net_d)\n",
    "utils.display_num_param(net_d) \n",
    "\n",
    "# Test the forward pass, backward pass and gradient update with a single batch\n",
    "init_lr = 0.001\n",
    "optimizer_g = torch.optim.Adam(net_g.parameters(), lr=init_lr)\n",
    "optimizer_d = torch.optim.Adam(net_d.parameters(), lr=init_lr)\n",
    "\n",
    "b = 10\n",
    "idx = torch.LongTensor(b).random_(0,60000)\n",
    "x = train_data[idx,:,:].view(b,-1) # [b, n**2]\n",
    "x = x.to(device)\n",
    "print(x.size())\n",
    "\n",
    "z = torch.rand(b, dz) # [b, dz]\n",
    "label_real = torch.ones(b, 1)\n",
    "label_fake = torch.zeros(b, 1)\n",
    "z = z.to(device)\n",
    "label_real = label_real.to(device)\n",
    "label_fake = label_fake.to(device)\n",
    "\n",
    "# update g\n",
    "optimizer_g.zero_grad()\n",
    "g_z = net_g(z) # [b, 1, n, n]\n",
    "g_fake = net_d(g_z) # [b, 1]\n",
    "print(g_z.size())\n",
    "print(g_fake.size())\n",
    "loss_fake = nn.BCELoss()(g_fake, label_real)\n",
    "loss = loss_fake\n",
    "loss.backward()\n",
    "optimizer_g.step()\n",
    "\n",
    "# update d\n",
    "optimizer_d.zero_grad()\n",
    "g_z = net_g(z) # [b, 1, n, n]\n",
    "d_real = net_d(x.view(-1,n,n).unsqueeze(1)) # [b, 1]\n",
    "g_fake = net_d(g_z) # [b, 1]\n",
    "print(d_real.size())\n",
    "print(g_z.size())\n",
    "print(g_fake.size())\n",
    "loss_real = nn.BCELoss()(d_real, label_real)\n",
    "loss_fake = nn.BCELoss()(g_fake, label_fake)\n",
    "loss = loss_real + loss_fake\n",
    "loss.backward()\n",
    "optimizer_d.step()\n"
   ]
  },
  {
   "cell_type": "code",
   "execution_count": 9,
   "metadata": {
    "colab": {
     "base_uri": "https://localhost:8080/",
     "height": 1000
    },
    "executionInfo": {
     "elapsed": 158848,
     "status": "ok",
     "timestamp": 1649122384455,
     "user": {
      "displayName": "Xavier Bresson",
      "userId": "14103767471123103792"
     },
     "user_tz": -480
    },
    "id": "tvuWro5BYdK4",
    "outputId": "c6bae831-5bc9-4ff9-e773-466f46658205",
    "scrolled": false
   },
   "outputs": [
    {
     "name": "stdout",
     "output_type": "stream",
     "text": [
      "generator(\n",
      "  (linear1): Linear(in_features=28, out_features=128, bias=True)\n",
      "  (bn1): BatchNorm1d(128, eps=1e-05, momentum=0.1, affine=True, track_running_stats=True)\n",
      "  (linear2): Linear(in_features=128, out_features=6272, bias=True)\n",
      "  (bn2): BatchNorm1d(6272, eps=1e-05, momentum=0.1, affine=True, track_running_stats=True)\n",
      "  (tconv1): ConvTranspose2d(128, 128, kernel_size=(4, 4), stride=(2, 2), padding=(1, 1))\n",
      "  (bn3): BatchNorm2d(128, eps=1e-05, momentum=0.1, affine=True, track_running_stats=True)\n",
      "  (tconv2): ConvTranspose2d(128, 1, kernel_size=(4, 4), stride=(2, 2), padding=(1, 1))\n",
      ")\n",
      "There are 1090177 (1.09 million) parameters in this neural network\n",
      "discriminator(\n",
      "  (conv1): Conv2d(1, 128, kernel_size=(4, 4), stride=(2, 2), padding=(1, 1))\n",
      "  (bn1): BatchNorm2d(128, eps=1e-05, momentum=0.1, affine=True, track_running_stats=True)\n",
      "  (conv2): Conv2d(128, 128, kernel_size=(4, 4), stride=(2, 2), padding=(1, 1))\n",
      "  (bn2): BatchNorm2d(128, eps=1e-05, momentum=0.1, affine=True, track_running_stats=True)\n",
      "  (linear1): Linear(in_features=6272, out_features=128, bias=True)\n",
      "  (bn3): BatchNorm1d(128, eps=1e-05, momentum=0.1, affine=True, track_running_stats=True)\n",
      "  (linear2): Linear(in_features=128, out_features=1, bias=True)\n",
      ")\n",
      "There are 1068289 (1.07 million) parameters in this neural network\n",
      "epoch= 0 \t time= 0.052764574686686196 min \t lr= 0.0002 \t loss_d= 1.2015578335523605 \t loss_g= 0.8613460505008698\n"
     ]
    },
    {
     "data": {
      "image/png": "[encoded data removed]",
      "text/plain": [
       "<Figure size 432x288 with 1 Axes>"
      ]
     },
     "metadata": {
      "needs_background": "light"
     },
     "output_type": "display_data"
    },
    {
     "name": "stdout",
     "output_type": "stream",
     "text": [
      "epoch= 1 \t time= 0.11404232184092204 min \t lr= 0.0002 \t loss_d= 0.8675262331962585 \t loss_g= 1.1490628504753113\n",
      "epoch= 2 \t time= 0.1664282480875651 min \t lr= 0.0002 \t loss_d= 0.6184659330546856 \t loss_g= 1.4664217406511306\n",
      "epoch= 3 \t time= 0.21873865524927774 min \t lr= 0.0002 \t loss_d= 0.45874700620770453 \t loss_g= 1.765455704331398\n",
      "epoch= 4 \t time= 0.27108608881632484 min \t lr= 0.0002 \t loss_d= 0.3462468495965004 \t loss_g= 2.059255877137184\n",
      "epoch= 5 \t time= 0.3235162456830343 min \t lr= 0.0002 \t loss_d= 0.45708316907286645 \t loss_g= 2.022261210680008\n"
     ]
    },
    {
     "data": {
      "image/png": "[encoded data removed]",
      "text/plain": [
       "<Figure size 432x288 with 1 Axes>"
      ]
     },
     "metadata": {
      "needs_background": "light"
     },
     "output_type": "display_data"
    },
    {
     "name": "stdout",
     "output_type": "stream",
     "text": [
      "epoch= 6 \t time= 0.37770801385243735 min \t lr= 0.0002 \t loss_d= 0.6629250937700272 \t loss_g= 1.6796365517377854\n",
      "epoch= 7 \t time= 0.43014948765436806 min \t lr= 0.0002 \t loss_d= 0.6487730947136879 \t loss_g= 1.7121999830007553\n",
      "epoch= 8 \t time= 0.48259220520655316 min \t lr= 0.0002 \t loss_d= 0.5803956943750381 \t loss_g= 1.8034185081720353\n",
      "epoch= 9 \t time= 0.5348863641421 min \t lr= 0.0002 \t loss_d= 0.5193407626450062 \t loss_g= 1.920608561038971\n",
      "epoch= 10 \t time= 0.5871298154195149 min \t lr= 0.0002 \t loss_d= 0.523167906999588 \t loss_g= 1.9613656616210937\n"
     ]
    },
    {
     "data": {
      "image/png": "[encoded data removed]",
      "text/plain": [
       "<Figure size 432x288 with 1 Axes>"
      ]
     },
     "metadata": {
      "needs_background": "light"
     },
     "output_type": "display_data"
    },
    {
     "name": "stdout",
     "output_type": "stream",
     "text": [
      "epoch= 11 \t time= 0.6412769039471944 min \t lr= 0.0002 \t loss_d= 0.5126203189790249 \t loss_g= 1.9808249759674073\n",
      "epoch= 12 \t time= 0.693615440527598 min \t lr= 0.0002 \t loss_d= 0.5113899236917496 \t loss_g= 2.0413214498758316\n",
      "epoch= 13 \t time= 0.7459509293238322 min \t lr= 0.0002 \t loss_d= 0.5122920051217079 \t loss_g= 2.055645621418953\n",
      "epoch= 14 \t time= 0.798334010442098 min \t lr= 0.0002 \t loss_d= 0.5094601514935494 \t loss_g= 2.0897596746683123\n",
      "epoch= 15 \t time= 0.8506154775619507 min \t lr= 0.0002 \t loss_d= 0.48630222991108896 \t loss_g= 2.1222428596019745\n"
     ]
    },
    {
     "data": {
      "image/png": "[encoded data removed]",
      "text/plain": [
       "<Figure size 432x288 with 1 Axes>"
      ]
     },
     "metadata": {
      "needs_background": "light"
     },
     "output_type": "display_data"
    },
    {
     "name": "stdout",
     "output_type": "stream",
     "text": [
      "epoch= 16 \t time= 0.9047309438387553 min \t lr= 0.0002 \t loss_d= 0.4772301436960697 \t loss_g= 2.182447453737259\n",
      "epoch= 17 \t time= 0.9570817192395528 min \t lr= 0.0002 \t loss_d= 0.47500776827335356 \t loss_g= 2.2307691287994387\n",
      "epoch= 18 \t time= 1.0093601584434508 min \t lr= 0.0002 \t loss_d= 0.4418306229263544 \t loss_g= 2.27767802298069\n",
      "epoch= 19 \t time= 1.0618088960647583 min \t lr= 0.0002 \t loss_d= 0.47673151925206186 \t loss_g= 2.281624621152878\n",
      "epoch= 20 \t time= 1.1142009814580283 min \t lr= 0.0002 \t loss_d= 0.4402063699066639 \t loss_g= 2.3484112334251406\n"
     ]
    },
    {
     "data": {
      "image/png": "[encoded data removed]",
      "text/plain": [
       "<Figure size 432x288 with 1 Axes>"
      ]
     },
     "metadata": {
      "needs_background": "light"
     },
     "output_type": "display_data"
    },
    {
     "name": "stdout",
     "output_type": "stream",
     "text": [
      "epoch= 21 \t time= 1.1684712886810302 min \t lr= 0.0002 \t loss_d= 0.4505954070389271 \t loss_g= 2.3570852863788603\n",
      "epoch= 22 \t time= 1.2207146883010864 min \t lr= 0.0002 \t loss_d= 0.4140587581694126 \t loss_g= 2.4561881029605868\n",
      "epoch= 23 \t time= 1.27299013932546 min \t lr= 0.0002 \t loss_d= 0.4113017576932907 \t loss_g= 2.46564013838768\n",
      "epoch= 24 \t time= 1.3253573099772136 min \t lr= 0.0002 \t loss_d= 0.4171637931466103 \t loss_g= 2.4907330709695814\n",
      "epoch= 25 \t time= 1.3776878197987874 min \t lr= 0.0002 \t loss_d= 0.414295908883214 \t loss_g= 2.5185720616579057\n"
     ]
    },
    {
     "data": {
      "image/png": "[encoded data removed]",
      "text/plain": [
       "<Figure size 432x288 with 1 Axes>"
      ]
     },
     "metadata": {
      "needs_background": "light"
     },
     "output_type": "display_data"
    },
    {
     "name": "stdout",
     "output_type": "stream",
     "text": [
      "epoch= 26 \t time= 1.4319473346074423 min \t lr= 0.0002 \t loss_d= 0.3801093950867653 \t loss_g= 2.585092104077339\n",
      "epoch= 27 \t time= 1.484362244606018 min \t lr= 0.0002 \t loss_d= 0.40283982425928117 \t loss_g= 2.6105793637037276\n",
      "epoch= 28 \t time= 1.5366063515345256 min \t lr= 0.0002 \t loss_d= 0.3905118613690138 \t loss_g= 2.5816835153102873\n",
      "epoch= 29 \t time= 1.5889972567558288 min \t lr= 0.0002 \t loss_d= 0.3792824795097113 \t loss_g= 2.698072910904884\n",
      "epoch= 30 \t time= 1.6412886063257852 min \t lr= 0.0002 \t loss_d= 0.3600621547549963 \t loss_g= 2.685105796456337\n"
     ]
    },
    {
     "data": {
      "image/png": "[encoded data removed]",
      "text/plain": [
       "<Figure size 432x288 with 1 Axes>"
      ]
     },
     "metadata": {
      "needs_background": "light"
     },
     "output_type": "display_data"
    },
    {
     "name": "stdout",
     "output_type": "stream",
     "text": [
      "epoch= 31 \t time= 1.6954110225041708 min \t lr= 0.0002 \t loss_d= 0.3664681363105774 \t loss_g= 2.7349915146827697\n",
      "epoch= 32 \t time= 1.7477126161257426 min \t lr= 0.0002 \t loss_d= 0.35487633228302 \t loss_g= 2.8072852057218554\n",
      "epoch= 33 \t time= 1.799976929028829 min \t lr= 0.0002 \t loss_d= 0.3514364829659462 \t loss_g= 2.801111674308777\n",
      "epoch= 34 \t time= 1.8523336807886759 min \t lr= 0.0002 \t loss_d= 0.3484470880776644 \t loss_g= 2.820296230316162\n",
      "epoch= 35 \t time= 1.9045540769894918 min \t lr= 0.0002 \t loss_d= 0.34110819652676583 \t loss_g= 2.8823353016376494\n"
     ]
    },
    {
     "data": {
      "image/png": "[encoded data removed]",
      "text/plain": [
       "<Figure size 432x288 with 1 Axes>"
      ]
     },
     "metadata": {
      "needs_background": "light"
     },
     "output_type": "display_data"
    },
    {
     "name": "stdout",
     "output_type": "stream",
     "text": [
      "epoch= 36 \t time= 1.9588371992111206 min \t lr= 0.0002 \t loss_d= 0.3444041819125414 \t loss_g= 2.912381192445755\n",
      "epoch= 37 \t time= 2.0112187306086224 min \t lr= 0.0002 \t loss_d= 0.3406694023311138 \t loss_g= 2.8970398062467577\n",
      "epoch= 38 \t time= 2.063562985261281 min \t lr= 0.0002 \t loss_d= 0.3241869913041592 \t loss_g= 2.9901808977127073\n",
      "epoch= 39 \t time= 2.115954287846883 min \t lr= 0.0002 \t loss_d= 0.33449052408337593 \t loss_g= 2.955472331047058\n",
      "epoch= 40 \t time= 2.16833868821462 min \t lr= 0.0002 \t loss_d= 0.3167698913812637 \t loss_g= 3.026702938079834\n"
     ]
    },
    {
     "data": {
      "image/png": "[encoded data removed]",
      "text/plain": [
       "<Figure size 432x288 with 1 Axes>"
      ]
     },
     "metadata": {
      "needs_background": "light"
     },
     "output_type": "display_data"
    },
    {
     "name": "stdout",
     "output_type": "stream",
     "text": [
      "epoch= 41 \t time= 2.2224649747212726 min \t lr= 0.0002 \t loss_d= 0.3326750534027815 \t loss_g= 2.9871851402521132\n",
      "epoch= 42 \t time= 2.2749479969342548 min \t lr= 0.0002 \t loss_d= 0.3216196151450276 \t loss_g= 3.3050447309017184\n",
      "epoch= 43 \t time= 2.3272827506065368 min \t lr= 0.0002 \t loss_d= 0.21794066652655603 \t loss_g= 3.426167768239975\n",
      "epoch= 44 \t time= 2.379611337184906 min \t lr= 0.0002 \t loss_d= 0.32520062152296303 \t loss_g= 3.0814367532730103\n",
      "epoch= 45 \t time= 2.432189889748891 min \t lr= 0.0002 \t loss_d= 0.322549035847187 \t loss_g= 3.089720727801323\n"
     ]
    },
    {
     "data": {
      "image/png": "[encoded data removed]",
      "text/plain": [
       "<Figure size 432x288 with 1 Axes>"
      ]
     },
     "metadata": {
      "needs_background": "light"
     },
     "output_type": "display_data"
    },
    {
     "name": "stdout",
     "output_type": "stream",
     "text": [
      "epoch= 46 \t time= 2.4865426421165466 min \t lr= 0.0002 \t loss_d= 0.30994871400296686 \t loss_g= 3.1253937977552413\n",
      "epoch= 47 \t time= 2.5389423449834188 min \t lr= 0.0002 \t loss_d= 0.2928525826707482 \t loss_g= 3.146556478738785\n",
      "epoch= 48 \t time= 2.591360358397166 min \t lr= 0.0002 \t loss_d= 0.3052590522915125 \t loss_g= 3.185574791431427\n",
      "epoch= 49 \t time= 2.6437300205230714 min \t lr= 0.0002 \t loss_d= 0.2951494484767318 \t loss_g= 3.1915162682533262\n"
     ]
    }
   ],
   "source": [
    "# Training loop\n",
    "net_g = generator()\n",
    "net_g = net_g.to(device)\n",
    "print(net_g)\n",
    "utils.display_num_param(net_g) \n",
    "net_d = discriminator()\n",
    "net_d = net_d.to(device)\n",
    "print(net_d)\n",
    "utils.display_num_param(net_d) \n",
    "\n",
    "# Optimizer\n",
    "init_lr = 0.0002\n",
    "optimizer_g = torch.optim.Adam(net_g.parameters(), lr=init_lr, betas=(0.5, 0.999))\n",
    "optimizer_d = torch.optim.Adam(net_d.parameters(), lr=init_lr, betas=(0.5, 0.999))\n",
    "\n",
    "nb_batch = 200 # GPU # Nb of mini-batches per epoch\n",
    "b = 64  # Batch size\n",
    "\n",
    "start=time.time()\n",
    "for epoch in range(50):\n",
    "\n",
    "    label_real = torch.ones(b, 1)\n",
    "    label_fake = torch.zeros(b, 1)\n",
    "    label_real = label_real.to(device)\n",
    "    label_fake = label_fake.to(device)\n",
    "\n",
    "    running_loss_d = 0.0\n",
    "    running_loss_g = 0.0\n",
    "    num_batches = 0\n",
    "    \n",
    "    for _ in range(nb_batch):\n",
    "        \n",
    "        # FORWARD AND BACKWARD PASS\n",
    "        idx = torch.LongTensor(b).random_(0,60000)\n",
    "        x = train_data[idx,:,:].view(b,-1) # [b, n**2]\n",
    "        x = x.to(device)\n",
    "        z = torch.rand(b, dz) # Uniform distribution # [b, dz]\n",
    "        z = z.to(device)\n",
    "        \n",
    "        # update d\n",
    "        optimizer_d.zero_grad()\n",
    "        g_z = net_g(z) # [b, 1, n, n]\n",
    "        d_real = net_d(x.view(-1,n,n).unsqueeze(1)) # [b, 1]\n",
    "        g_fake = net_d(g_z) # [b, 1]\n",
    "        loss_real = nn.BCELoss()(d_real, label_real)\n",
    "        loss_fake = nn.BCELoss()(g_fake, label_fake)\n",
    "        loss = loss_real + loss_fake\n",
    "        loss_d = loss.detach().item()\n",
    "        loss.backward()\n",
    "        optimizer_d.step()    \n",
    "        \n",
    "        # update g\n",
    "        optimizer_g.zero_grad()\n",
    "        g_z = net_g(z) # [b, 1, n, n]\n",
    "        g_fake = net_d(g_z) # [b, 1]\n",
    "        loss_fake = nn.BCELoss()(g_fake, label_real)\n",
    "        loss = loss_fake\n",
    "        loss_g = loss.detach().item()\n",
    "        loss.backward()\n",
    "        optimizer_g.step() \n",
    "\n",
    "        # COMPUTE STATS\n",
    "        running_loss_d += loss_d\n",
    "        running_loss_g += loss_g\n",
    "        num_batches += 1        \n",
    "    \n",
    "    # AVERAGE STATS THEN DISPLAY\n",
    "    total_loss_d = running_loss_d/ num_batches\n",
    "    total_loss_g = running_loss_g/ num_batches\n",
    "    elapsed = (time.time()-start)/60\n",
    "    print('epoch=',epoch, '\\t time=', elapsed,'min', '\\t lr=', init_lr  ,'\\t loss_d=', total_loss_d ,'\\t loss_g=', total_loss_g )\n",
    "\n",
    "    if not epoch%5:\n",
    "        plt.imshow(g_z.view(b,n,n).detach().cpu()[0,:,:], cmap='gray'); plt.show() \n",
    "    "
   ]
  },
  {
   "cell_type": "code",
   "execution_count": 10,
   "metadata": {
    "colab": {
     "base_uri": "https://localhost:8080/",
     "height": 1000
    },
    "executionInfo": {
     "elapsed": 1348,
     "status": "ok",
     "timestamp": 1649122385796,
     "user": {
      "displayName": "Xavier Bresson",
      "userId": "14103767471123103792"
     },
     "user_tz": -480
    },
    "id": "pT0g6UC0YdK5",
    "outputId": "f8868881-c425-4e3d-f204-ff0759008e64",
    "scrolled": false
   },
   "outputs": [
    {
     "data": {
      "image/png": "[encoded data removed]",
      "text/plain": [
       "<Figure size 432x288 with 1 Axes>"
      ]
     },
     "metadata": {
      "needs_background": "light"
     },
     "output_type": "display_data"
    },
    {
     "data": {
      "image/png": "[encoded data removed]",
      "text/plain": [
       "<Figure size 432x288 with 1 Axes>"
      ]
     },
     "metadata": {
      "needs_background": "light"
     },
     "output_type": "display_data"
    },
    {
     "data": {
      "image/png": "[encoded data removed]",
      "text/plain": [
       "<Figure size 432x288 with 1 Axes>"
      ]
     },
     "metadata": {
      "needs_background": "light"
     },
     "output_type": "display_data"
    },
    {
     "data": {
      "image/png": "[encoded data removed]",
      "text/plain": [
       "<Figure size 432x288 with 1 Axes>"
      ]
     },
     "metadata": {
      "needs_background": "light"
     },
     "output_type": "display_data"
    },
    {
     "data": {
      "image/png": "[encoded data removed]",
      "text/plain": [
       "<Figure size 432x288 with 1 Axes>"
      ]
     },
     "metadata": {
      "needs_background": "light"
     },
     "output_type": "display_data"
    },
    {
     "data": {
      "image/png": "[encoded data removed]",
      "text/plain": [
       "<Figure size 432x288 with 1 Axes>"
      ]
     },
     "metadata": {
      "needs_background": "light"
     },
     "output_type": "display_data"
    },
    {
     "data": {
      "image/png": "[encoded data removed]",
      "text/plain": [
       "<Figure size 432x288 with 1 Axes>"
      ]
     },
     "metadata": {
      "needs_background": "light"
     },
     "output_type": "display_data"
    },
    {
     "data": {
      "image/png": "[encoded data removed]",
      "text/plain": [
       "<Figure size 432x288 with 1 Axes>"
      ]
     },
     "metadata": {
      "needs_background": "light"
     },
     "output_type": "display_data"
    },
    {
     "data": {
      "image/png": "[encoded data removed]",
      "text/plain": [
       "<Figure size 432x288 with 1 Axes>"
      ]
     },
     "metadata": {
      "needs_background": "light"
     },
     "output_type": "display_data"
    },
    {
     "data": {
      "image/png": "[encoded data removed]",
      "text/plain": [
       "<Figure size 432x288 with 1 Axes>"
      ]
     },
     "metadata": {
      "needs_background": "light"
     },
     "output_type": "display_data"
    }
   ],
   "source": [
    "# Generate a few images\n",
    "b = 10\n",
    "z = torch.rand(b, dz) # Uniform distribution \n",
    "z = z.to(device)\n",
    "g_z = net_g(z).view(b,n,n).detach().cpu()\n",
    "for k in range(b):\n",
    "    plt.imshow(g_z[k,:,:], cmap='gray'); plt.show() \n",
    "  "
   ]
  },
  {
   "cell_type": "code",
   "execution_count": 10,
   "metadata": {
    "executionInfo": {
     "elapsed": 6,
     "status": "ok",
     "timestamp": 1649122385797,
     "user": {
      "displayName": "Xavier Bresson",
      "userId": "14103767471123103792"
     },
     "user_tz": -480
    },
    "id": "0Hw31504YdK6"
   },
   "outputs": [],
   "source": []
  }
 ],
 "metadata": {
  "accelerator": "GPU",
  "colab": {
   "collapsed_sections": [],
   "name": "GAN_CNN_solution.ipynb",
   "provenance": []
  },
  "kernelspec": {
   "display_name": "Python 3 (ipykernel)",
   "language": "python",
   "name": "python3"
  },
  "language_info": {
   "codemirror_mode": {
    "name": "ipython",
    "version": 3
   },
   "file_extension": ".py",
   "mimetype": "text/x-python",
   "name": "python",
   "nbconvert_exporter": "python",
   "pygments_lexer": "ipython3",
   "version": "3.7.10"
  }
 },
 "nbformat": 4,
 "nbformat_minor": 1
}
